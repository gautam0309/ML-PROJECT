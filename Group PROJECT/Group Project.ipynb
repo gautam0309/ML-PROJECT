{
  "cells": [
    {
      "cell_type": "code",
      "execution_count": null,
      "metadata": {
        "id": "5QY5liABafev"
      },
      "outputs": [],
      "source": [
        "!pip install statsmodels openpyxl -U -q"
      ]
    },
    {
      "cell_type": "code",
      "execution_count": null,
      "metadata": {
        "id": "p8zXcntqafew"
      },
      "outputs": [],
      "source": [
        "# Import necessary libraries\n",
        "import numpy as np\n",
        "import pandas as pd\n",
        "import matplotlib.pyplot as plt\n",
        "from sklearn.metrics import r2_score\n",
        "from scipy.stats import chi2_contingency\n",
        "from statsmodels.stats.outliers_influence import variance_inflation_factor\n",
        "from sklearn.model_selection import train_test_split\n",
        "from sklearn.ensemble import RandomForestClassifier\n",
        "from sklearn.metrics import accuracy_score, classification_report, precision_recall_fscore_support\n",
        "import warnings\n",
        "import os\n"
      ]
    },
    {
      "cell_type": "code",
      "execution_count": null,
      "metadata": {
        "id": "8ChB1tgyafex"
      },
      "outputs": [],
      "source": [
        "# Load the dataset\n",
        "a1 = pd.read_excel(\"/content/case_study1.xlsx\")\n",
        "a2 = pd.read_excel(\"/content/case_study2.xlsx\")"
      ]
    },
    {
      "cell_type": "code",
      "execution_count": null,
      "metadata": {
        "id": "0muXLRI7afey"
      },
      "outputs": [],
      "source": [
        "df1 = a1.copy()\n",
        "df2 = a2.copy()"
      ]
    },
    {
      "cell_type": "code",
      "execution_count": null,
      "metadata": {
        "colab": {
          "base_uri": "https://localhost:8080/"
        },
        "id": "mqD-KPc1afey",
        "outputId": "b12de4a5-85a4-4d28-bdc2-ded733fe5a31"
      },
      "outputs": [
        {
          "output_type": "stream",
          "name": "stdout",
          "text": [
            "<class 'pandas.core.frame.DataFrame'>\n",
            "RangeIndex: 51336 entries, 0 to 51335\n",
            "Data columns (total 26 columns):\n",
            " #   Column                Non-Null Count  Dtype  \n",
            "---  ------                --------------  -----  \n",
            " 0   PROSPECTID            51336 non-null  int64  \n",
            " 1   Total_TL              51336 non-null  int64  \n",
            " 2   Tot_Closed_TL         51336 non-null  int64  \n",
            " 3   Tot_Active_TL         51336 non-null  int64  \n",
            " 4   Total_TL_opened_L6M   51336 non-null  int64  \n",
            " 5   Tot_TL_closed_L6M     51336 non-null  int64  \n",
            " 6   pct_tl_open_L6M       51336 non-null  float64\n",
            " 7   pct_tl_closed_L6M     51336 non-null  float64\n",
            " 8   pct_active_tl         51336 non-null  float64\n",
            " 9   pct_closed_tl         51336 non-null  float64\n",
            " 10  Total_TL_opened_L12M  51336 non-null  int64  \n",
            " 11  Tot_TL_closed_L12M    51336 non-null  int64  \n",
            " 12  pct_tl_open_L12M      51336 non-null  float64\n",
            " 13  pct_tl_closed_L12M    51336 non-null  float64\n",
            " 14  Tot_Missed_Pmnt       51336 non-null  int64  \n",
            " 15  Auto_TL               51336 non-null  int64  \n",
            " 16  CC_TL                 51336 non-null  int64  \n",
            " 17  Consumer_TL           51336 non-null  int64  \n",
            " 18  Gold_TL               51336 non-null  int64  \n",
            " 19  Home_TL               51336 non-null  int64  \n",
            " 20  PL_TL                 51336 non-null  int64  \n",
            " 21  Secured_TL            51336 non-null  int64  \n",
            " 22  Unsecured_TL          51336 non-null  int64  \n",
            " 23  Other_TL              51336 non-null  int64  \n",
            " 24  Age_Oldest_TL         51336 non-null  int64  \n",
            " 25  Age_Newest_TL         51336 non-null  int64  \n",
            "dtypes: float64(6), int64(20)\n",
            "memory usage: 10.2 MB\n"
          ]
        }
      ],
      "source": [
        "df1.info()"
      ]
    },
    {
      "cell_type": "code",
      "source": [
        "df1.describe()"
      ],
      "metadata": {
        "colab": {
          "base_uri": "https://localhost:8080/",
          "height": 349
        },
        "id": "DjGiDnEf6kUT",
        "outputId": "f0bfc2a0-1d52-4b04-c209-d656c9f13cf1"
      },
      "execution_count": null,
      "outputs": [
        {
          "output_type": "execute_result",
          "data": {
            "text/plain": [
              "         PROSPECTID      Total_TL  Tot_Closed_TL  Tot_Active_TL  \\\n",
              "count  51336.000000  51336.000000   51336.000000   51336.000000   \n",
              "mean   25668.500000      4.858598       2.770415       2.088184   \n",
              "std    14819.571046      7.177116       5.941680       2.290774   \n",
              "min        1.000000      1.000000       0.000000       0.000000   \n",
              "25%    12834.750000      1.000000       0.000000       1.000000   \n",
              "50%    25668.500000      2.000000       1.000000       1.000000   \n",
              "75%    38502.250000      5.000000       3.000000       3.000000   \n",
              "max    51336.000000    235.000000     216.000000      47.000000   \n",
              "\n",
              "       Total_TL_opened_L6M  Tot_TL_closed_L6M  pct_tl_open_L6M  \\\n",
              "count         51336.000000       51336.000000     51336.000000   \n",
              "mean              0.736754           0.428919         0.184574   \n",
              "std               1.296717           0.989972         0.297414   \n",
              "min               0.000000           0.000000         0.000000   \n",
              "25%               0.000000           0.000000         0.000000   \n",
              "50%               0.000000           0.000000         0.000000   \n",
              "75%               1.000000           1.000000         0.308000   \n",
              "max              27.000000          19.000000         1.000000   \n",
              "\n",
              "       pct_tl_closed_L6M  pct_active_tl  pct_closed_tl  ...         CC_TL  \\\n",
              "count       51336.000000   51336.000000   51336.000000  ...  51336.000000   \n",
              "mean            0.089095       0.577542       0.422458  ...      0.124981   \n",
              "std             0.205635       0.379867       0.379867  ...      0.505201   \n",
              "min             0.000000       0.000000       0.000000  ...      0.000000   \n",
              "25%             0.000000       0.250000       0.000000  ...      0.000000   \n",
              "50%             0.000000       0.556000       0.444000  ...      0.000000   \n",
              "75%             0.053000       1.000000       0.750000  ...      0.000000   \n",
              "max             1.000000       1.000000       1.000000  ...     27.000000   \n",
              "\n",
              "        Consumer_TL       Gold_TL       Home_TL         PL_TL    Secured_TL  \\\n",
              "count  51336.000000  51336.000000  51336.000000  51336.000000  51336.000000   \n",
              "mean       1.136084      1.561847      0.070146      0.282511      2.844904   \n",
              "std        2.227997      5.376434      0.340861      0.858168      6.187177   \n",
              "min        0.000000      0.000000      0.000000      0.000000      0.000000   \n",
              "25%        0.000000      0.000000      0.000000      0.000000      0.000000   \n",
              "50%        0.000000      0.000000      0.000000      0.000000      1.000000   \n",
              "75%        1.000000      1.000000      0.000000      0.000000      3.000000   \n",
              "max       41.000000    235.000000     10.000000     29.000000    235.000000   \n",
              "\n",
              "       Unsecured_TL      Other_TL  Age_Oldest_TL  Age_Newest_TL  \n",
              "count  51336.000000  51336.000000   51336.000000   51336.000000  \n",
              "mean       2.013694      1.089762     -32.575639     -62.149525  \n",
              "std        3.198322      2.417496    2791.869609    2790.818622  \n",
              "min        0.000000      0.000000  -99999.000000  -99999.000000  \n",
              "25%        0.000000      0.000000      14.000000       4.000000  \n",
              "50%        1.000000      0.000000      33.000000       8.000000  \n",
              "75%        2.000000      1.000000      64.000000      17.000000  \n",
              "max       55.000000     80.000000     392.000000     392.000000  \n",
              "\n",
              "[8 rows x 26 columns]"
            ],
            "text/html": [
              "\n",
              "  <div id=\"df-5a7cf14a-0d8f-46f6-a53a-45f902820f42\" class=\"colab-df-container\">\n",
              "    <div>\n",
              "<style scoped>\n",
              "    .dataframe tbody tr th:only-of-type {\n",
              "        vertical-align: middle;\n",
              "    }\n",
              "\n",
              "    .dataframe tbody tr th {\n",
              "        vertical-align: top;\n",
              "    }\n",
              "\n",
              "    .dataframe thead th {\n",
              "        text-align: right;\n",
              "    }\n",
              "</style>\n",
              "<table border=\"1\" class=\"dataframe\">\n",
              "  <thead>\n",
              "    <tr style=\"text-align: right;\">\n",
              "      <th></th>\n",
              "      <th>PROSPECTID</th>\n",
              "      <th>Total_TL</th>\n",
              "      <th>Tot_Closed_TL</th>\n",
              "      <th>Tot_Active_TL</th>\n",
              "      <th>Total_TL_opened_L6M</th>\n",
              "      <th>Tot_TL_closed_L6M</th>\n",
              "      <th>pct_tl_open_L6M</th>\n",
              "      <th>pct_tl_closed_L6M</th>\n",
              "      <th>pct_active_tl</th>\n",
              "      <th>pct_closed_tl</th>\n",
              "      <th>...</th>\n",
              "      <th>CC_TL</th>\n",
              "      <th>Consumer_TL</th>\n",
              "      <th>Gold_TL</th>\n",
              "      <th>Home_TL</th>\n",
              "      <th>PL_TL</th>\n",
              "      <th>Secured_TL</th>\n",
              "      <th>Unsecured_TL</th>\n",
              "      <th>Other_TL</th>\n",
              "      <th>Age_Oldest_TL</th>\n",
              "      <th>Age_Newest_TL</th>\n",
              "    </tr>\n",
              "  </thead>\n",
              "  <tbody>\n",
              "    <tr>\n",
              "      <th>count</th>\n",
              "      <td>51336.000000</td>\n",
              "      <td>51336.000000</td>\n",
              "      <td>51336.000000</td>\n",
              "      <td>51336.000000</td>\n",
              "      <td>51336.000000</td>\n",
              "      <td>51336.000000</td>\n",
              "      <td>51336.000000</td>\n",
              "      <td>51336.000000</td>\n",
              "      <td>51336.000000</td>\n",
              "      <td>51336.000000</td>\n",
              "      <td>...</td>\n",
              "      <td>51336.000000</td>\n",
              "      <td>51336.000000</td>\n",
              "      <td>51336.000000</td>\n",
              "      <td>51336.000000</td>\n",
              "      <td>51336.000000</td>\n",
              "      <td>51336.000000</td>\n",
              "      <td>51336.000000</td>\n",
              "      <td>51336.000000</td>\n",
              "      <td>51336.000000</td>\n",
              "      <td>51336.000000</td>\n",
              "    </tr>\n",
              "    <tr>\n",
              "      <th>mean</th>\n",
              "      <td>25668.500000</td>\n",
              "      <td>4.858598</td>\n",
              "      <td>2.770415</td>\n",
              "      <td>2.088184</td>\n",
              "      <td>0.736754</td>\n",
              "      <td>0.428919</td>\n",
              "      <td>0.184574</td>\n",
              "      <td>0.089095</td>\n",
              "      <td>0.577542</td>\n",
              "      <td>0.422458</td>\n",
              "      <td>...</td>\n",
              "      <td>0.124981</td>\n",
              "      <td>1.136084</td>\n",
              "      <td>1.561847</td>\n",
              "      <td>0.070146</td>\n",
              "      <td>0.282511</td>\n",
              "      <td>2.844904</td>\n",
              "      <td>2.013694</td>\n",
              "      <td>1.089762</td>\n",
              "      <td>-32.575639</td>\n",
              "      <td>-62.149525</td>\n",
              "    </tr>\n",
              "    <tr>\n",
              "      <th>std</th>\n",
              "      <td>14819.571046</td>\n",
              "      <td>7.177116</td>\n",
              "      <td>5.941680</td>\n",
              "      <td>2.290774</td>\n",
              "      <td>1.296717</td>\n",
              "      <td>0.989972</td>\n",
              "      <td>0.297414</td>\n",
              "      <td>0.205635</td>\n",
              "      <td>0.379867</td>\n",
              "      <td>0.379867</td>\n",
              "      <td>...</td>\n",
              "      <td>0.505201</td>\n",
              "      <td>2.227997</td>\n",
              "      <td>5.376434</td>\n",
              "      <td>0.340861</td>\n",
              "      <td>0.858168</td>\n",
              "      <td>6.187177</td>\n",
              "      <td>3.198322</td>\n",
              "      <td>2.417496</td>\n",
              "      <td>2791.869609</td>\n",
              "      <td>2790.818622</td>\n",
              "    </tr>\n",
              "    <tr>\n",
              "      <th>min</th>\n",
              "      <td>1.000000</td>\n",
              "      <td>1.000000</td>\n",
              "      <td>0.000000</td>\n",
              "      <td>0.000000</td>\n",
              "      <td>0.000000</td>\n",
              "      <td>0.000000</td>\n",
              "      <td>0.000000</td>\n",
              "      <td>0.000000</td>\n",
              "      <td>0.000000</td>\n",
              "      <td>0.000000</td>\n",
              "      <td>...</td>\n",
              "      <td>0.000000</td>\n",
              "      <td>0.000000</td>\n",
              "      <td>0.000000</td>\n",
              "      <td>0.000000</td>\n",
              "      <td>0.000000</td>\n",
              "      <td>0.000000</td>\n",
              "      <td>0.000000</td>\n",
              "      <td>0.000000</td>\n",
              "      <td>-99999.000000</td>\n",
              "      <td>-99999.000000</td>\n",
              "    </tr>\n",
              "    <tr>\n",
              "      <th>25%</th>\n",
              "      <td>12834.750000</td>\n",
              "      <td>1.000000</td>\n",
              "      <td>0.000000</td>\n",
              "      <td>1.000000</td>\n",
              "      <td>0.000000</td>\n",
              "      <td>0.000000</td>\n",
              "      <td>0.000000</td>\n",
              "      <td>0.000000</td>\n",
              "      <td>0.250000</td>\n",
              "      <td>0.000000</td>\n",
              "      <td>...</td>\n",
              "      <td>0.000000</td>\n",
              "      <td>0.000000</td>\n",
              "      <td>0.000000</td>\n",
              "      <td>0.000000</td>\n",
              "      <td>0.000000</td>\n",
              "      <td>0.000000</td>\n",
              "      <td>0.000000</td>\n",
              "      <td>0.000000</td>\n",
              "      <td>14.000000</td>\n",
              "      <td>4.000000</td>\n",
              "    </tr>\n",
              "    <tr>\n",
              "      <th>50%</th>\n",
              "      <td>25668.500000</td>\n",
              "      <td>2.000000</td>\n",
              "      <td>1.000000</td>\n",
              "      <td>1.000000</td>\n",
              "      <td>0.000000</td>\n",
              "      <td>0.000000</td>\n",
              "      <td>0.000000</td>\n",
              "      <td>0.000000</td>\n",
              "      <td>0.556000</td>\n",
              "      <td>0.444000</td>\n",
              "      <td>...</td>\n",
              "      <td>0.000000</td>\n",
              "      <td>0.000000</td>\n",
              "      <td>0.000000</td>\n",
              "      <td>0.000000</td>\n",
              "      <td>0.000000</td>\n",
              "      <td>1.000000</td>\n",
              "      <td>1.000000</td>\n",
              "      <td>0.000000</td>\n",
              "      <td>33.000000</td>\n",
              "      <td>8.000000</td>\n",
              "    </tr>\n",
              "    <tr>\n",
              "      <th>75%</th>\n",
              "      <td>38502.250000</td>\n",
              "      <td>5.000000</td>\n",
              "      <td>3.000000</td>\n",
              "      <td>3.000000</td>\n",
              "      <td>1.000000</td>\n",
              "      <td>1.000000</td>\n",
              "      <td>0.308000</td>\n",
              "      <td>0.053000</td>\n",
              "      <td>1.000000</td>\n",
              "      <td>0.750000</td>\n",
              "      <td>...</td>\n",
              "      <td>0.000000</td>\n",
              "      <td>1.000000</td>\n",
              "      <td>1.000000</td>\n",
              "      <td>0.000000</td>\n",
              "      <td>0.000000</td>\n",
              "      <td>3.000000</td>\n",
              "      <td>2.000000</td>\n",
              "      <td>1.000000</td>\n",
              "      <td>64.000000</td>\n",
              "      <td>17.000000</td>\n",
              "    </tr>\n",
              "    <tr>\n",
              "      <th>max</th>\n",
              "      <td>51336.000000</td>\n",
              "      <td>235.000000</td>\n",
              "      <td>216.000000</td>\n",
              "      <td>47.000000</td>\n",
              "      <td>27.000000</td>\n",
              "      <td>19.000000</td>\n",
              "      <td>1.000000</td>\n",
              "      <td>1.000000</td>\n",
              "      <td>1.000000</td>\n",
              "      <td>1.000000</td>\n",
              "      <td>...</td>\n",
              "      <td>27.000000</td>\n",
              "      <td>41.000000</td>\n",
              "      <td>235.000000</td>\n",
              "      <td>10.000000</td>\n",
              "      <td>29.000000</td>\n",
              "      <td>235.000000</td>\n",
              "      <td>55.000000</td>\n",
              "      <td>80.000000</td>\n",
              "      <td>392.000000</td>\n",
              "      <td>392.000000</td>\n",
              "    </tr>\n",
              "  </tbody>\n",
              "</table>\n",
              "<p>8 rows × 26 columns</p>\n",
              "</div>\n",
              "    <div class=\"colab-df-buttons\">\n",
              "\n",
              "  <div class=\"colab-df-container\">\n",
              "    <button class=\"colab-df-convert\" onclick=\"convertToInteractive('df-5a7cf14a-0d8f-46f6-a53a-45f902820f42')\"\n",
              "            title=\"Convert this dataframe to an interactive table.\"\n",
              "            style=\"display:none;\">\n",
              "\n",
              "  <svg xmlns=\"http://www.w3.org/2000/svg\" height=\"24px\" viewBox=\"0 -960 960 960\">\n",
              "    <path d=\"M120-120v-720h720v720H120Zm60-500h600v-160H180v160Zm220 220h160v-160H400v160Zm0 220h160v-160H400v160ZM180-400h160v-160H180v160Zm440 0h160v-160H620v160ZM180-180h160v-160H180v160Zm440 0h160v-160H620v160Z\"/>\n",
              "  </svg>\n",
              "    </button>\n",
              "\n",
              "  <style>\n",
              "    .colab-df-container {\n",
              "      display:flex;\n",
              "      gap: 12px;\n",
              "    }\n",
              "\n",
              "    .colab-df-convert {\n",
              "      background-color: #E8F0FE;\n",
              "      border: none;\n",
              "      border-radius: 50%;\n",
              "      cursor: pointer;\n",
              "      display: none;\n",
              "      fill: #1967D2;\n",
              "      height: 32px;\n",
              "      padding: 0 0 0 0;\n",
              "      width: 32px;\n",
              "    }\n",
              "\n",
              "    .colab-df-convert:hover {\n",
              "      background-color: #E2EBFA;\n",
              "      box-shadow: 0px 1px 2px rgba(60, 64, 67, 0.3), 0px 1px 3px 1px rgba(60, 64, 67, 0.15);\n",
              "      fill: #174EA6;\n",
              "    }\n",
              "\n",
              "    .colab-df-buttons div {\n",
              "      margin-bottom: 4px;\n",
              "    }\n",
              "\n",
              "    [theme=dark] .colab-df-convert {\n",
              "      background-color: #3B4455;\n",
              "      fill: #D2E3FC;\n",
              "    }\n",
              "\n",
              "    [theme=dark] .colab-df-convert:hover {\n",
              "      background-color: #434B5C;\n",
              "      box-shadow: 0px 1px 3px 1px rgba(0, 0, 0, 0.15);\n",
              "      filter: drop-shadow(0px 1px 2px rgba(0, 0, 0, 0.3));\n",
              "      fill: #FFFFFF;\n",
              "    }\n",
              "  </style>\n",
              "\n",
              "    <script>\n",
              "      const buttonEl =\n",
              "        document.querySelector('#df-5a7cf14a-0d8f-46f6-a53a-45f902820f42 button.colab-df-convert');\n",
              "      buttonEl.style.display =\n",
              "        google.colab.kernel.accessAllowed ? 'block' : 'none';\n",
              "\n",
              "      async function convertToInteractive(key) {\n",
              "        const element = document.querySelector('#df-5a7cf14a-0d8f-46f6-a53a-45f902820f42');\n",
              "        const dataTable =\n",
              "          await google.colab.kernel.invokeFunction('convertToInteractive',\n",
              "                                                    [key], {});\n",
              "        if (!dataTable) return;\n",
              "\n",
              "        const docLinkHtml = 'Like what you see? Visit the ' +\n",
              "          '<a target=\"_blank\" href=https://colab.research.google.com/notebooks/data_table.ipynb>data table notebook</a>'\n",
              "          + ' to learn more about interactive tables.';\n",
              "        element.innerHTML = '';\n",
              "        dataTable['output_type'] = 'display_data';\n",
              "        await google.colab.output.renderOutput(dataTable, element);\n",
              "        const docLink = document.createElement('div');\n",
              "        docLink.innerHTML = docLinkHtml;\n",
              "        element.appendChild(docLink);\n",
              "      }\n",
              "    </script>\n",
              "  </div>\n",
              "\n",
              "\n",
              "<div id=\"df-034afa82-d820-4102-b25c-708c405eb4b7\">\n",
              "  <button class=\"colab-df-quickchart\" onclick=\"quickchart('df-034afa82-d820-4102-b25c-708c405eb4b7')\"\n",
              "            title=\"Suggest charts\"\n",
              "            style=\"display:none;\">\n",
              "\n",
              "<svg xmlns=\"http://www.w3.org/2000/svg\" height=\"24px\"viewBox=\"0 0 24 24\"\n",
              "     width=\"24px\">\n",
              "    <g>\n",
              "        <path d=\"M19 3H5c-1.1 0-2 .9-2 2v14c0 1.1.9 2 2 2h14c1.1 0 2-.9 2-2V5c0-1.1-.9-2-2-2zM9 17H7v-7h2v7zm4 0h-2V7h2v10zm4 0h-2v-4h2v4z\"/>\n",
              "    </g>\n",
              "</svg>\n",
              "  </button>\n",
              "\n",
              "<style>\n",
              "  .colab-df-quickchart {\n",
              "      --bg-color: #E8F0FE;\n",
              "      --fill-color: #1967D2;\n",
              "      --hover-bg-color: #E2EBFA;\n",
              "      --hover-fill-color: #174EA6;\n",
              "      --disabled-fill-color: #AAA;\n",
              "      --disabled-bg-color: #DDD;\n",
              "  }\n",
              "\n",
              "  [theme=dark] .colab-df-quickchart {\n",
              "      --bg-color: #3B4455;\n",
              "      --fill-color: #D2E3FC;\n",
              "      --hover-bg-color: #434B5C;\n",
              "      --hover-fill-color: #FFFFFF;\n",
              "      --disabled-bg-color: #3B4455;\n",
              "      --disabled-fill-color: #666;\n",
              "  }\n",
              "\n",
              "  .colab-df-quickchart {\n",
              "    background-color: var(--bg-color);\n",
              "    border: none;\n",
              "    border-radius: 50%;\n",
              "    cursor: pointer;\n",
              "    display: none;\n",
              "    fill: var(--fill-color);\n",
              "    height: 32px;\n",
              "    padding: 0;\n",
              "    width: 32px;\n",
              "  }\n",
              "\n",
              "  .colab-df-quickchart:hover {\n",
              "    background-color: var(--hover-bg-color);\n",
              "    box-shadow: 0 1px 2px rgba(60, 64, 67, 0.3), 0 1px 3px 1px rgba(60, 64, 67, 0.15);\n",
              "    fill: var(--button-hover-fill-color);\n",
              "  }\n",
              "\n",
              "  .colab-df-quickchart-complete:disabled,\n",
              "  .colab-df-quickchart-complete:disabled:hover {\n",
              "    background-color: var(--disabled-bg-color);\n",
              "    fill: var(--disabled-fill-color);\n",
              "    box-shadow: none;\n",
              "  }\n",
              "\n",
              "  .colab-df-spinner {\n",
              "    border: 2px solid var(--fill-color);\n",
              "    border-color: transparent;\n",
              "    border-bottom-color: var(--fill-color);\n",
              "    animation:\n",
              "      spin 1s steps(1) infinite;\n",
              "  }\n",
              "\n",
              "  @keyframes spin {\n",
              "    0% {\n",
              "      border-color: transparent;\n",
              "      border-bottom-color: var(--fill-color);\n",
              "      border-left-color: var(--fill-color);\n",
              "    }\n",
              "    20% {\n",
              "      border-color: transparent;\n",
              "      border-left-color: var(--fill-color);\n",
              "      border-top-color: var(--fill-color);\n",
              "    }\n",
              "    30% {\n",
              "      border-color: transparent;\n",
              "      border-left-color: var(--fill-color);\n",
              "      border-top-color: var(--fill-color);\n",
              "      border-right-color: var(--fill-color);\n",
              "    }\n",
              "    40% {\n",
              "      border-color: transparent;\n",
              "      border-right-color: var(--fill-color);\n",
              "      border-top-color: var(--fill-color);\n",
              "    }\n",
              "    60% {\n",
              "      border-color: transparent;\n",
              "      border-right-color: var(--fill-color);\n",
              "    }\n",
              "    80% {\n",
              "      border-color: transparent;\n",
              "      border-right-color: var(--fill-color);\n",
              "      border-bottom-color: var(--fill-color);\n",
              "    }\n",
              "    90% {\n",
              "      border-color: transparent;\n",
              "      border-bottom-color: var(--fill-color);\n",
              "    }\n",
              "  }\n",
              "</style>\n",
              "\n",
              "  <script>\n",
              "    async function quickchart(key) {\n",
              "      const quickchartButtonEl =\n",
              "        document.querySelector('#' + key + ' button');\n",
              "      quickchartButtonEl.disabled = true;  // To prevent multiple clicks.\n",
              "      quickchartButtonEl.classList.add('colab-df-spinner');\n",
              "      try {\n",
              "        const charts = await google.colab.kernel.invokeFunction(\n",
              "            'suggestCharts', [key], {});\n",
              "      } catch (error) {\n",
              "        console.error('Error during call to suggestCharts:', error);\n",
              "      }\n",
              "      quickchartButtonEl.classList.remove('colab-df-spinner');\n",
              "      quickchartButtonEl.classList.add('colab-df-quickchart-complete');\n",
              "    }\n",
              "    (() => {\n",
              "      let quickchartButtonEl =\n",
              "        document.querySelector('#df-034afa82-d820-4102-b25c-708c405eb4b7 button');\n",
              "      quickchartButtonEl.style.display =\n",
              "        google.colab.kernel.accessAllowed ? 'block' : 'none';\n",
              "    })();\n",
              "  </script>\n",
              "</div>\n",
              "\n",
              "    </div>\n",
              "  </div>\n"
            ],
            "application/vnd.google.colaboratory.intrinsic+json": {
              "type": "dataframe"
            }
          },
          "metadata": {},
          "execution_count": 7
        }
      ]
    },
    {
      "cell_type": "code",
      "execution_count": null,
      "metadata": {
        "colab": {
          "base_uri": "https://localhost:8080/"
        },
        "id": "EZwn0RJVafez",
        "outputId": "2cfe6f19-e633-418f-c721-cc478ebc9173"
      },
      "outputs": [
        {
          "output_type": "stream",
          "name": "stdout",
          "text": [
            "<class 'pandas.core.frame.DataFrame'>\n",
            "RangeIndex: 51336 entries, 0 to 51335\n",
            "Data columns (total 62 columns):\n",
            " #   Column                        Non-Null Count  Dtype  \n",
            "---  ------                        --------------  -----  \n",
            " 0   PROSPECTID                    51336 non-null  int64  \n",
            " 1   time_since_recent_payment     51336 non-null  int64  \n",
            " 2   time_since_first_deliquency   51336 non-null  int64  \n",
            " 3   time_since_recent_deliquency  51336 non-null  int64  \n",
            " 4   num_times_delinquent          51336 non-null  int64  \n",
            " 5   max_delinquency_level         51336 non-null  int64  \n",
            " 6   max_recent_level_of_deliq     51336 non-null  int64  \n",
            " 7   num_deliq_6mts                51336 non-null  int64  \n",
            " 8   num_deliq_12mts               51336 non-null  int64  \n",
            " 9   num_deliq_6_12mts             51336 non-null  int64  \n",
            " 10  max_deliq_6mts                51336 non-null  int64  \n",
            " 11  max_deliq_12mts               51336 non-null  int64  \n",
            " 12  num_times_30p_dpd             51336 non-null  int64  \n",
            " 13  num_times_60p_dpd             51336 non-null  int64  \n",
            " 14  num_std                       51336 non-null  int64  \n",
            " 15  num_std_6mts                  51336 non-null  int64  \n",
            " 16  num_std_12mts                 51336 non-null  int64  \n",
            " 17  num_sub                       51336 non-null  int64  \n",
            " 18  num_sub_6mts                  51336 non-null  int64  \n",
            " 19  num_sub_12mts                 51336 non-null  int64  \n",
            " 20  num_dbt                       51336 non-null  int64  \n",
            " 21  num_dbt_6mts                  51336 non-null  int64  \n",
            " 22  num_dbt_12mts                 51336 non-null  int64  \n",
            " 23  num_lss                       51336 non-null  int64  \n",
            " 24  num_lss_6mts                  51336 non-null  int64  \n",
            " 25  num_lss_12mts                 51336 non-null  int64  \n",
            " 26  recent_level_of_deliq         51336 non-null  int64  \n",
            " 27  tot_enq                       51336 non-null  int64  \n",
            " 28  CC_enq                        51336 non-null  int64  \n",
            " 29  CC_enq_L6m                    51336 non-null  int64  \n",
            " 30  CC_enq_L12m                   51336 non-null  int64  \n",
            " 31  PL_enq                        51336 non-null  int64  \n",
            " 32  PL_enq_L6m                    51336 non-null  int64  \n",
            " 33  PL_enq_L12m                   51336 non-null  int64  \n",
            " 34  time_since_recent_enq         51336 non-null  int64  \n",
            " 35  enq_L12m                      51336 non-null  int64  \n",
            " 36  enq_L6m                       51336 non-null  int64  \n",
            " 37  enq_L3m                       51336 non-null  int64  \n",
            " 38  MARITALSTATUS                 51336 non-null  object \n",
            " 39  EDUCATION                     51336 non-null  object \n",
            " 40  AGE                           51336 non-null  int64  \n",
            " 41  GENDER                        51336 non-null  object \n",
            " 42  NETMONTHLYINCOME              51336 non-null  int64  \n",
            " 43  Time_With_Curr_Empr           51336 non-null  int64  \n",
            " 44  pct_of_active_TLs_ever        51336 non-null  float64\n",
            " 45  pct_opened_TLs_L6m_of_L12m    51336 non-null  float64\n",
            " 46  pct_currentBal_all_TL         51336 non-null  float64\n",
            " 47  CC_utilization                51336 non-null  float64\n",
            " 48  CC_Flag                       51336 non-null  int64  \n",
            " 49  PL_utilization                51336 non-null  float64\n",
            " 50  PL_Flag                       51336 non-null  int64  \n",
            " 51  pct_PL_enq_L6m_of_L12m        51336 non-null  float64\n",
            " 52  pct_CC_enq_L6m_of_L12m        51336 non-null  float64\n",
            " 53  pct_PL_enq_L6m_of_ever        51336 non-null  float64\n",
            " 54  pct_CC_enq_L6m_of_ever        51336 non-null  float64\n",
            " 55  max_unsec_exposure_inPct      51336 non-null  float64\n",
            " 56  HL_Flag                       51336 non-null  int64  \n",
            " 57  GL_Flag                       51336 non-null  int64  \n",
            " 58  last_prod_enq2                51336 non-null  object \n",
            " 59  first_prod_enq2               51336 non-null  object \n",
            " 60  Credit_Score                  51336 non-null  int64  \n",
            " 61  Approved_Flag                 51336 non-null  object \n",
            "dtypes: float64(10), int64(46), object(6)\n",
            "memory usage: 24.3+ MB\n"
          ]
        }
      ],
      "source": [
        "df2.info()"
      ]
    },
    {
      "cell_type": "code",
      "source": [
        "df2.describe()"
      ],
      "metadata": {
        "colab": {
          "base_uri": "https://localhost:8080/",
          "height": 349
        },
        "id": "8MNBa6qWAizZ",
        "outputId": "1a63ad58-1435-46eb-aa28-a27c51fe747c"
      },
      "execution_count": null,
      "outputs": [
        {
          "output_type": "execute_result",
          "data": {
            "text/plain": [
              "         PROSPECTID  time_since_recent_payment  time_since_first_deliquency  \\\n",
              "count  51336.000000               51336.000000                 51336.000000   \n",
              "mean   25668.500000               -8129.961314                -70020.091320   \n",
              "std    14819.571046               27749.328514                 45823.312757   \n",
              "min        1.000000              -99999.000000                -99999.000000   \n",
              "25%    12834.750000                  46.000000                -99999.000000   \n",
              "50%    25668.500000                  70.000000                -99999.000000   \n",
              "75%    38502.250000                 161.000000                     8.000000   \n",
              "max    51336.000000                6065.000000                    35.000000   \n",
              "\n",
              "       time_since_recent_deliquency  num_times_delinquent  \\\n",
              "count                  51336.000000          51336.000000   \n",
              "mean                  -70022.375838              1.573749   \n",
              "std                    45819.820741              4.165012   \n",
              "min                   -99999.000000              0.000000   \n",
              "25%                   -99999.000000              0.000000   \n",
              "50%                   -99999.000000              0.000000   \n",
              "75%                        3.000000              1.000000   \n",
              "max                       35.000000             74.000000   \n",
              "\n",
              "       max_delinquency_level  max_recent_level_of_deliq  num_deliq_6mts  \\\n",
              "count           51336.000000               51336.000000    51336.000000   \n",
              "mean           -70003.987085                  13.521953        0.184977   \n",
              "std             45847.976100                  53.336976        0.710240   \n",
              "min            -99999.000000                   0.000000        0.000000   \n",
              "25%            -99999.000000                   0.000000        0.000000   \n",
              "50%            -99999.000000                   0.000000        0.000000   \n",
              "75%                15.000000                  10.000000        0.000000   \n",
              "max               900.000000                 900.000000       12.000000   \n",
              "\n",
              "       num_deliq_12mts  num_deliq_6_12mts  ...  PL_utilization       PL_Flag  \\\n",
              "count     51336.000000       51336.000000  ...    51336.000000  51336.000000   \n",
              "mean          0.480053           0.295076  ...   -86556.225194      0.167874   \n",
              "std           1.522210           1.027471  ...    34111.414750      0.373758   \n",
              "min           0.000000           0.000000  ...   -99999.000000      0.000000   \n",
              "25%           0.000000           0.000000  ...   -99999.000000      0.000000   \n",
              "50%           0.000000           0.000000  ...   -99999.000000      0.000000   \n",
              "75%           0.000000           0.000000  ...   -99999.000000      0.000000   \n",
              "max          28.000000          20.000000  ...        1.708000      1.000000   \n",
              "\n",
              "       pct_PL_enq_L6m_of_L12m  pct_CC_enq_L6m_of_L12m  pct_PL_enq_L6m_of_ever  \\\n",
              "count            51336.000000            51336.000000            51336.000000   \n",
              "mean                 0.190414                0.065182                0.170492   \n",
              "std                  0.376218                0.235706                0.350209   \n",
              "min                  0.000000                0.000000                0.000000   \n",
              "25%                  0.000000                0.000000                0.000000   \n",
              "50%                  0.000000                0.000000                0.000000   \n",
              "75%                  0.000000                0.000000                0.000000   \n",
              "max                  1.000000                1.000000                1.000000   \n",
              "\n",
              "       pct_CC_enq_L6m_of_ever  max_unsec_exposure_inPct       HL_Flag  \\\n",
              "count            51336.000000              51336.000000  51336.000000   \n",
              "mean                 0.056302             -45127.943635      0.271116   \n",
              "std                  0.213506              49795.784556      0.444540   \n",
              "min                  0.000000             -99999.000000      0.000000   \n",
              "25%                  0.000000             -99999.000000      0.000000   \n",
              "50%                  0.000000                  0.333000      0.000000   \n",
              "75%                  0.000000                  2.164250      1.000000   \n",
              "max                  1.000000             173800.000000      1.000000   \n",
              "\n",
              "            GL_Flag  Credit_Score  \n",
              "count  51336.000000  51336.000000  \n",
              "mean       0.052887    679.859222  \n",
              "std        0.223810     20.502764  \n",
              "min        0.000000    469.000000  \n",
              "25%        0.000000    669.000000  \n",
              "50%        0.000000    680.000000  \n",
              "75%        0.000000    691.000000  \n",
              "max        1.000000    811.000000  \n",
              "\n",
              "[8 rows x 56 columns]"
            ],
            "text/html": [
              "\n",
              "  <div id=\"df-37dce947-942d-430b-b06d-fac5d11a791f\" class=\"colab-df-container\">\n",
              "    <div>\n",
              "<style scoped>\n",
              "    .dataframe tbody tr th:only-of-type {\n",
              "        vertical-align: middle;\n",
              "    }\n",
              "\n",
              "    .dataframe tbody tr th {\n",
              "        vertical-align: top;\n",
              "    }\n",
              "\n",
              "    .dataframe thead th {\n",
              "        text-align: right;\n",
              "    }\n",
              "</style>\n",
              "<table border=\"1\" class=\"dataframe\">\n",
              "  <thead>\n",
              "    <tr style=\"text-align: right;\">\n",
              "      <th></th>\n",
              "      <th>PROSPECTID</th>\n",
              "      <th>time_since_recent_payment</th>\n",
              "      <th>time_since_first_deliquency</th>\n",
              "      <th>time_since_recent_deliquency</th>\n",
              "      <th>num_times_delinquent</th>\n",
              "      <th>max_delinquency_level</th>\n",
              "      <th>max_recent_level_of_deliq</th>\n",
              "      <th>num_deliq_6mts</th>\n",
              "      <th>num_deliq_12mts</th>\n",
              "      <th>num_deliq_6_12mts</th>\n",
              "      <th>...</th>\n",
              "      <th>PL_utilization</th>\n",
              "      <th>PL_Flag</th>\n",
              "      <th>pct_PL_enq_L6m_of_L12m</th>\n",
              "      <th>pct_CC_enq_L6m_of_L12m</th>\n",
              "      <th>pct_PL_enq_L6m_of_ever</th>\n",
              "      <th>pct_CC_enq_L6m_of_ever</th>\n",
              "      <th>max_unsec_exposure_inPct</th>\n",
              "      <th>HL_Flag</th>\n",
              "      <th>GL_Flag</th>\n",
              "      <th>Credit_Score</th>\n",
              "    </tr>\n",
              "  </thead>\n",
              "  <tbody>\n",
              "    <tr>\n",
              "      <th>count</th>\n",
              "      <td>51336.000000</td>\n",
              "      <td>51336.000000</td>\n",
              "      <td>51336.000000</td>\n",
              "      <td>51336.000000</td>\n",
              "      <td>51336.000000</td>\n",
              "      <td>51336.000000</td>\n",
              "      <td>51336.000000</td>\n",
              "      <td>51336.000000</td>\n",
              "      <td>51336.000000</td>\n",
              "      <td>51336.000000</td>\n",
              "      <td>...</td>\n",
              "      <td>51336.000000</td>\n",
              "      <td>51336.000000</td>\n",
              "      <td>51336.000000</td>\n",
              "      <td>51336.000000</td>\n",
              "      <td>51336.000000</td>\n",
              "      <td>51336.000000</td>\n",
              "      <td>51336.000000</td>\n",
              "      <td>51336.000000</td>\n",
              "      <td>51336.000000</td>\n",
              "      <td>51336.000000</td>\n",
              "    </tr>\n",
              "    <tr>\n",
              "      <th>mean</th>\n",
              "      <td>25668.500000</td>\n",
              "      <td>-8129.961314</td>\n",
              "      <td>-70020.091320</td>\n",
              "      <td>-70022.375838</td>\n",
              "      <td>1.573749</td>\n",
              "      <td>-70003.987085</td>\n",
              "      <td>13.521953</td>\n",
              "      <td>0.184977</td>\n",
              "      <td>0.480053</td>\n",
              "      <td>0.295076</td>\n",
              "      <td>...</td>\n",
              "      <td>-86556.225194</td>\n",
              "      <td>0.167874</td>\n",
              "      <td>0.190414</td>\n",
              "      <td>0.065182</td>\n",
              "      <td>0.170492</td>\n",
              "      <td>0.056302</td>\n",
              "      <td>-45127.943635</td>\n",
              "      <td>0.271116</td>\n",
              "      <td>0.052887</td>\n",
              "      <td>679.859222</td>\n",
              "    </tr>\n",
              "    <tr>\n",
              "      <th>std</th>\n",
              "      <td>14819.571046</td>\n",
              "      <td>27749.328514</td>\n",
              "      <td>45823.312757</td>\n",
              "      <td>45819.820741</td>\n",
              "      <td>4.165012</td>\n",
              "      <td>45847.976100</td>\n",
              "      <td>53.336976</td>\n",
              "      <td>0.710240</td>\n",
              "      <td>1.522210</td>\n",
              "      <td>1.027471</td>\n",
              "      <td>...</td>\n",
              "      <td>34111.414750</td>\n",
              "      <td>0.373758</td>\n",
              "      <td>0.376218</td>\n",
              "      <td>0.235706</td>\n",
              "      <td>0.350209</td>\n",
              "      <td>0.213506</td>\n",
              "      <td>49795.784556</td>\n",
              "      <td>0.444540</td>\n",
              "      <td>0.223810</td>\n",
              "      <td>20.502764</td>\n",
              "    </tr>\n",
              "    <tr>\n",
              "      <th>min</th>\n",
              "      <td>1.000000</td>\n",
              "      <td>-99999.000000</td>\n",
              "      <td>-99999.000000</td>\n",
              "      <td>-99999.000000</td>\n",
              "      <td>0.000000</td>\n",
              "      <td>-99999.000000</td>\n",
              "      <td>0.000000</td>\n",
              "      <td>0.000000</td>\n",
              "      <td>0.000000</td>\n",
              "      <td>0.000000</td>\n",
              "      <td>...</td>\n",
              "      <td>-99999.000000</td>\n",
              "      <td>0.000000</td>\n",
              "      <td>0.000000</td>\n",
              "      <td>0.000000</td>\n",
              "      <td>0.000000</td>\n",
              "      <td>0.000000</td>\n",
              "      <td>-99999.000000</td>\n",
              "      <td>0.000000</td>\n",
              "      <td>0.000000</td>\n",
              "      <td>469.000000</td>\n",
              "    </tr>\n",
              "    <tr>\n",
              "      <th>25%</th>\n",
              "      <td>12834.750000</td>\n",
              "      <td>46.000000</td>\n",
              "      <td>-99999.000000</td>\n",
              "      <td>-99999.000000</td>\n",
              "      <td>0.000000</td>\n",
              "      <td>-99999.000000</td>\n",
              "      <td>0.000000</td>\n",
              "      <td>0.000000</td>\n",
              "      <td>0.000000</td>\n",
              "      <td>0.000000</td>\n",
              "      <td>...</td>\n",
              "      <td>-99999.000000</td>\n",
              "      <td>0.000000</td>\n",
              "      <td>0.000000</td>\n",
              "      <td>0.000000</td>\n",
              "      <td>0.000000</td>\n",
              "      <td>0.000000</td>\n",
              "      <td>-99999.000000</td>\n",
              "      <td>0.000000</td>\n",
              "      <td>0.000000</td>\n",
              "      <td>669.000000</td>\n",
              "    </tr>\n",
              "    <tr>\n",
              "      <th>50%</th>\n",
              "      <td>25668.500000</td>\n",
              "      <td>70.000000</td>\n",
              "      <td>-99999.000000</td>\n",
              "      <td>-99999.000000</td>\n",
              "      <td>0.000000</td>\n",
              "      <td>-99999.000000</td>\n",
              "      <td>0.000000</td>\n",
              "      <td>0.000000</td>\n",
              "      <td>0.000000</td>\n",
              "      <td>0.000000</td>\n",
              "      <td>...</td>\n",
              "      <td>-99999.000000</td>\n",
              "      <td>0.000000</td>\n",
              "      <td>0.000000</td>\n",
              "      <td>0.000000</td>\n",
              "      <td>0.000000</td>\n",
              "      <td>0.000000</td>\n",
              "      <td>0.333000</td>\n",
              "      <td>0.000000</td>\n",
              "      <td>0.000000</td>\n",
              "      <td>680.000000</td>\n",
              "    </tr>\n",
              "    <tr>\n",
              "      <th>75%</th>\n",
              "      <td>38502.250000</td>\n",
              "      <td>161.000000</td>\n",
              "      <td>8.000000</td>\n",
              "      <td>3.000000</td>\n",
              "      <td>1.000000</td>\n",
              "      <td>15.000000</td>\n",
              "      <td>10.000000</td>\n",
              "      <td>0.000000</td>\n",
              "      <td>0.000000</td>\n",
              "      <td>0.000000</td>\n",
              "      <td>...</td>\n",
              "      <td>-99999.000000</td>\n",
              "      <td>0.000000</td>\n",
              "      <td>0.000000</td>\n",
              "      <td>0.000000</td>\n",
              "      <td>0.000000</td>\n",
              "      <td>0.000000</td>\n",
              "      <td>2.164250</td>\n",
              "      <td>1.000000</td>\n",
              "      <td>0.000000</td>\n",
              "      <td>691.000000</td>\n",
              "    </tr>\n",
              "    <tr>\n",
              "      <th>max</th>\n",
              "      <td>51336.000000</td>\n",
              "      <td>6065.000000</td>\n",
              "      <td>35.000000</td>\n",
              "      <td>35.000000</td>\n",
              "      <td>74.000000</td>\n",
              "      <td>900.000000</td>\n",
              "      <td>900.000000</td>\n",
              "      <td>12.000000</td>\n",
              "      <td>28.000000</td>\n",
              "      <td>20.000000</td>\n",
              "      <td>...</td>\n",
              "      <td>1.708000</td>\n",
              "      <td>1.000000</td>\n",
              "      <td>1.000000</td>\n",
              "      <td>1.000000</td>\n",
              "      <td>1.000000</td>\n",
              "      <td>1.000000</td>\n",
              "      <td>173800.000000</td>\n",
              "      <td>1.000000</td>\n",
              "      <td>1.000000</td>\n",
              "      <td>811.000000</td>\n",
              "    </tr>\n",
              "  </tbody>\n",
              "</table>\n",
              "<p>8 rows × 56 columns</p>\n",
              "</div>\n",
              "    <div class=\"colab-df-buttons\">\n",
              "\n",
              "  <div class=\"colab-df-container\">\n",
              "    <button class=\"colab-df-convert\" onclick=\"convertToInteractive('df-37dce947-942d-430b-b06d-fac5d11a791f')\"\n",
              "            title=\"Convert this dataframe to an interactive table.\"\n",
              "            style=\"display:none;\">\n",
              "\n",
              "  <svg xmlns=\"http://www.w3.org/2000/svg\" height=\"24px\" viewBox=\"0 -960 960 960\">\n",
              "    <path d=\"M120-120v-720h720v720H120Zm60-500h600v-160H180v160Zm220 220h160v-160H400v160Zm0 220h160v-160H400v160ZM180-400h160v-160H180v160Zm440 0h160v-160H620v160ZM180-180h160v-160H180v160Zm440 0h160v-160H620v160Z\"/>\n",
              "  </svg>\n",
              "    </button>\n",
              "\n",
              "  <style>\n",
              "    .colab-df-container {\n",
              "      display:flex;\n",
              "      gap: 12px;\n",
              "    }\n",
              "\n",
              "    .colab-df-convert {\n",
              "      background-color: #E8F0FE;\n",
              "      border: none;\n",
              "      border-radius: 50%;\n",
              "      cursor: pointer;\n",
              "      display: none;\n",
              "      fill: #1967D2;\n",
              "      height: 32px;\n",
              "      padding: 0 0 0 0;\n",
              "      width: 32px;\n",
              "    }\n",
              "\n",
              "    .colab-df-convert:hover {\n",
              "      background-color: #E2EBFA;\n",
              "      box-shadow: 0px 1px 2px rgba(60, 64, 67, 0.3), 0px 1px 3px 1px rgba(60, 64, 67, 0.15);\n",
              "      fill: #174EA6;\n",
              "    }\n",
              "\n",
              "    .colab-df-buttons div {\n",
              "      margin-bottom: 4px;\n",
              "    }\n",
              "\n",
              "    [theme=dark] .colab-df-convert {\n",
              "      background-color: #3B4455;\n",
              "      fill: #D2E3FC;\n",
              "    }\n",
              "\n",
              "    [theme=dark] .colab-df-convert:hover {\n",
              "      background-color: #434B5C;\n",
              "      box-shadow: 0px 1px 3px 1px rgba(0, 0, 0, 0.15);\n",
              "      filter: drop-shadow(0px 1px 2px rgba(0, 0, 0, 0.3));\n",
              "      fill: #FFFFFF;\n",
              "    }\n",
              "  </style>\n",
              "\n",
              "    <script>\n",
              "      const buttonEl =\n",
              "        document.querySelector('#df-37dce947-942d-430b-b06d-fac5d11a791f button.colab-df-convert');\n",
              "      buttonEl.style.display =\n",
              "        google.colab.kernel.accessAllowed ? 'block' : 'none';\n",
              "\n",
              "      async function convertToInteractive(key) {\n",
              "        const element = document.querySelector('#df-37dce947-942d-430b-b06d-fac5d11a791f');\n",
              "        const dataTable =\n",
              "          await google.colab.kernel.invokeFunction('convertToInteractive',\n",
              "                                                    [key], {});\n",
              "        if (!dataTable) return;\n",
              "\n",
              "        const docLinkHtml = 'Like what you see? Visit the ' +\n",
              "          '<a target=\"_blank\" href=https://colab.research.google.com/notebooks/data_table.ipynb>data table notebook</a>'\n",
              "          + ' to learn more about interactive tables.';\n",
              "        element.innerHTML = '';\n",
              "        dataTable['output_type'] = 'display_data';\n",
              "        await google.colab.output.renderOutput(dataTable, element);\n",
              "        const docLink = document.createElement('div');\n",
              "        docLink.innerHTML = docLinkHtml;\n",
              "        element.appendChild(docLink);\n",
              "      }\n",
              "    </script>\n",
              "  </div>\n",
              "\n",
              "\n",
              "<div id=\"df-4fb7b856-1466-43c6-9209-c1e2baff33ae\">\n",
              "  <button class=\"colab-df-quickchart\" onclick=\"quickchart('df-4fb7b856-1466-43c6-9209-c1e2baff33ae')\"\n",
              "            title=\"Suggest charts\"\n",
              "            style=\"display:none;\">\n",
              "\n",
              "<svg xmlns=\"http://www.w3.org/2000/svg\" height=\"24px\"viewBox=\"0 0 24 24\"\n",
              "     width=\"24px\">\n",
              "    <g>\n",
              "        <path d=\"M19 3H5c-1.1 0-2 .9-2 2v14c0 1.1.9 2 2 2h14c1.1 0 2-.9 2-2V5c0-1.1-.9-2-2-2zM9 17H7v-7h2v7zm4 0h-2V7h2v10zm4 0h-2v-4h2v4z\"/>\n",
              "    </g>\n",
              "</svg>\n",
              "  </button>\n",
              "\n",
              "<style>\n",
              "  .colab-df-quickchart {\n",
              "      --bg-color: #E8F0FE;\n",
              "      --fill-color: #1967D2;\n",
              "      --hover-bg-color: #E2EBFA;\n",
              "      --hover-fill-color: #174EA6;\n",
              "      --disabled-fill-color: #AAA;\n",
              "      --disabled-bg-color: #DDD;\n",
              "  }\n",
              "\n",
              "  [theme=dark] .colab-df-quickchart {\n",
              "      --bg-color: #3B4455;\n",
              "      --fill-color: #D2E3FC;\n",
              "      --hover-bg-color: #434B5C;\n",
              "      --hover-fill-color: #FFFFFF;\n",
              "      --disabled-bg-color: #3B4455;\n",
              "      --disabled-fill-color: #666;\n",
              "  }\n",
              "\n",
              "  .colab-df-quickchart {\n",
              "    background-color: var(--bg-color);\n",
              "    border: none;\n",
              "    border-radius: 50%;\n",
              "    cursor: pointer;\n",
              "    display: none;\n",
              "    fill: var(--fill-color);\n",
              "    height: 32px;\n",
              "    padding: 0;\n",
              "    width: 32px;\n",
              "  }\n",
              "\n",
              "  .colab-df-quickchart:hover {\n",
              "    background-color: var(--hover-bg-color);\n",
              "    box-shadow: 0 1px 2px rgba(60, 64, 67, 0.3), 0 1px 3px 1px rgba(60, 64, 67, 0.15);\n",
              "    fill: var(--button-hover-fill-color);\n",
              "  }\n",
              "\n",
              "  .colab-df-quickchart-complete:disabled,\n",
              "  .colab-df-quickchart-complete:disabled:hover {\n",
              "    background-color: var(--disabled-bg-color);\n",
              "    fill: var(--disabled-fill-color);\n",
              "    box-shadow: none;\n",
              "  }\n",
              "\n",
              "  .colab-df-spinner {\n",
              "    border: 2px solid var(--fill-color);\n",
              "    border-color: transparent;\n",
              "    border-bottom-color: var(--fill-color);\n",
              "    animation:\n",
              "      spin 1s steps(1) infinite;\n",
              "  }\n",
              "\n",
              "  @keyframes spin {\n",
              "    0% {\n",
              "      border-color: transparent;\n",
              "      border-bottom-color: var(--fill-color);\n",
              "      border-left-color: var(--fill-color);\n",
              "    }\n",
              "    20% {\n",
              "      border-color: transparent;\n",
              "      border-left-color: var(--fill-color);\n",
              "      border-top-color: var(--fill-color);\n",
              "    }\n",
              "    30% {\n",
              "      border-color: transparent;\n",
              "      border-left-color: var(--fill-color);\n",
              "      border-top-color: var(--fill-color);\n",
              "      border-right-color: var(--fill-color);\n",
              "    }\n",
              "    40% {\n",
              "      border-color: transparent;\n",
              "      border-right-color: var(--fill-color);\n",
              "      border-top-color: var(--fill-color);\n",
              "    }\n",
              "    60% {\n",
              "      border-color: transparent;\n",
              "      border-right-color: var(--fill-color);\n",
              "    }\n",
              "    80% {\n",
              "      border-color: transparent;\n",
              "      border-right-color: var(--fill-color);\n",
              "      border-bottom-color: var(--fill-color);\n",
              "    }\n",
              "    90% {\n",
              "      border-color: transparent;\n",
              "      border-bottom-color: var(--fill-color);\n",
              "    }\n",
              "  }\n",
              "</style>\n",
              "\n",
              "  <script>\n",
              "    async function quickchart(key) {\n",
              "      const quickchartButtonEl =\n",
              "        document.querySelector('#' + key + ' button');\n",
              "      quickchartButtonEl.disabled = true;  // To prevent multiple clicks.\n",
              "      quickchartButtonEl.classList.add('colab-df-spinner');\n",
              "      try {\n",
              "        const charts = await google.colab.kernel.invokeFunction(\n",
              "            'suggestCharts', [key], {});\n",
              "      } catch (error) {\n",
              "        console.error('Error during call to suggestCharts:', error);\n",
              "      }\n",
              "      quickchartButtonEl.classList.remove('colab-df-spinner');\n",
              "      quickchartButtonEl.classList.add('colab-df-quickchart-complete');\n",
              "    }\n",
              "    (() => {\n",
              "      let quickchartButtonEl =\n",
              "        document.querySelector('#df-4fb7b856-1466-43c6-9209-c1e2baff33ae button');\n",
              "      quickchartButtonEl.style.display =\n",
              "        google.colab.kernel.accessAllowed ? 'block' : 'none';\n",
              "    })();\n",
              "  </script>\n",
              "</div>\n",
              "\n",
              "    </div>\n",
              "  </div>\n"
            ],
            "application/vnd.google.colaboratory.intrinsic+json": {
              "type": "dataframe"
            }
          },
          "metadata": {},
          "execution_count": 9
        }
      ]
    },
    {
      "cell_type": "code",
      "source": [
        "df1.isna().sum()"
      ],
      "metadata": {
        "colab": {
          "base_uri": "https://localhost:8080/",
          "height": 899
        },
        "id": "mn0vjM25A5aR",
        "outputId": "b9a6eca2-347d-4330-c547-c1a5f9bba3e8"
      },
      "execution_count": null,
      "outputs": [
        {
          "output_type": "execute_result",
          "data": {
            "text/plain": [
              "PROSPECTID              0\n",
              "Total_TL                0\n",
              "Tot_Closed_TL           0\n",
              "Tot_Active_TL           0\n",
              "Total_TL_opened_L6M     0\n",
              "Tot_TL_closed_L6M       0\n",
              "pct_tl_open_L6M         0\n",
              "pct_tl_closed_L6M       0\n",
              "pct_active_tl           0\n",
              "pct_closed_tl           0\n",
              "Total_TL_opened_L12M    0\n",
              "Tot_TL_closed_L12M      0\n",
              "pct_tl_open_L12M        0\n",
              "pct_tl_closed_L12M      0\n",
              "Tot_Missed_Pmnt         0\n",
              "Auto_TL                 0\n",
              "CC_TL                   0\n",
              "Consumer_TL             0\n",
              "Gold_TL                 0\n",
              "Home_TL                 0\n",
              "PL_TL                   0\n",
              "Secured_TL              0\n",
              "Unsecured_TL            0\n",
              "Other_TL                0\n",
              "Age_Oldest_TL           0\n",
              "Age_Newest_TL           0\n",
              "dtype: int64"
            ],
            "text/html": [
              "<div>\n",
              "<style scoped>\n",
              "    .dataframe tbody tr th:only-of-type {\n",
              "        vertical-align: middle;\n",
              "    }\n",
              "\n",
              "    .dataframe tbody tr th {\n",
              "        vertical-align: top;\n",
              "    }\n",
              "\n",
              "    .dataframe thead th {\n",
              "        text-align: right;\n",
              "    }\n",
              "</style>\n",
              "<table border=\"1\" class=\"dataframe\">\n",
              "  <thead>\n",
              "    <tr style=\"text-align: right;\">\n",
              "      <th></th>\n",
              "      <th>0</th>\n",
              "    </tr>\n",
              "  </thead>\n",
              "  <tbody>\n",
              "    <tr>\n",
              "      <th>PROSPECTID</th>\n",
              "      <td>0</td>\n",
              "    </tr>\n",
              "    <tr>\n",
              "      <th>Total_TL</th>\n",
              "      <td>0</td>\n",
              "    </tr>\n",
              "    <tr>\n",
              "      <th>Tot_Closed_TL</th>\n",
              "      <td>0</td>\n",
              "    </tr>\n",
              "    <tr>\n",
              "      <th>Tot_Active_TL</th>\n",
              "      <td>0</td>\n",
              "    </tr>\n",
              "    <tr>\n",
              "      <th>Total_TL_opened_L6M</th>\n",
              "      <td>0</td>\n",
              "    </tr>\n",
              "    <tr>\n",
              "      <th>Tot_TL_closed_L6M</th>\n",
              "      <td>0</td>\n",
              "    </tr>\n",
              "    <tr>\n",
              "      <th>pct_tl_open_L6M</th>\n",
              "      <td>0</td>\n",
              "    </tr>\n",
              "    <tr>\n",
              "      <th>pct_tl_closed_L6M</th>\n",
              "      <td>0</td>\n",
              "    </tr>\n",
              "    <tr>\n",
              "      <th>pct_active_tl</th>\n",
              "      <td>0</td>\n",
              "    </tr>\n",
              "    <tr>\n",
              "      <th>pct_closed_tl</th>\n",
              "      <td>0</td>\n",
              "    </tr>\n",
              "    <tr>\n",
              "      <th>Total_TL_opened_L12M</th>\n",
              "      <td>0</td>\n",
              "    </tr>\n",
              "    <tr>\n",
              "      <th>Tot_TL_closed_L12M</th>\n",
              "      <td>0</td>\n",
              "    </tr>\n",
              "    <tr>\n",
              "      <th>pct_tl_open_L12M</th>\n",
              "      <td>0</td>\n",
              "    </tr>\n",
              "    <tr>\n",
              "      <th>pct_tl_closed_L12M</th>\n",
              "      <td>0</td>\n",
              "    </tr>\n",
              "    <tr>\n",
              "      <th>Tot_Missed_Pmnt</th>\n",
              "      <td>0</td>\n",
              "    </tr>\n",
              "    <tr>\n",
              "      <th>Auto_TL</th>\n",
              "      <td>0</td>\n",
              "    </tr>\n",
              "    <tr>\n",
              "      <th>CC_TL</th>\n",
              "      <td>0</td>\n",
              "    </tr>\n",
              "    <tr>\n",
              "      <th>Consumer_TL</th>\n",
              "      <td>0</td>\n",
              "    </tr>\n",
              "    <tr>\n",
              "      <th>Gold_TL</th>\n",
              "      <td>0</td>\n",
              "    </tr>\n",
              "    <tr>\n",
              "      <th>Home_TL</th>\n",
              "      <td>0</td>\n",
              "    </tr>\n",
              "    <tr>\n",
              "      <th>PL_TL</th>\n",
              "      <td>0</td>\n",
              "    </tr>\n",
              "    <tr>\n",
              "      <th>Secured_TL</th>\n",
              "      <td>0</td>\n",
              "    </tr>\n",
              "    <tr>\n",
              "      <th>Unsecured_TL</th>\n",
              "      <td>0</td>\n",
              "    </tr>\n",
              "    <tr>\n",
              "      <th>Other_TL</th>\n",
              "      <td>0</td>\n",
              "    </tr>\n",
              "    <tr>\n",
              "      <th>Age_Oldest_TL</th>\n",
              "      <td>0</td>\n",
              "    </tr>\n",
              "    <tr>\n",
              "      <th>Age_Newest_TL</th>\n",
              "      <td>0</td>\n",
              "    </tr>\n",
              "  </tbody>\n",
              "</table>\n",
              "</div><br><label><b>dtype:</b> int64</label>"
            ]
          },
          "metadata": {},
          "execution_count": 10
        }
      ]
    },
    {
      "cell_type": "code",
      "source": [
        "df2.isna().sum()"
      ],
      "metadata": {
        "colab": {
          "base_uri": "https://localhost:8080/",
          "height": 458
        },
        "id": "oeRlzCDgA9qP",
        "outputId": "736f13c4-b862-4036-b959-eab32aae069e"
      },
      "execution_count": null,
      "outputs": [
        {
          "output_type": "execute_result",
          "data": {
            "text/plain": [
              "PROSPECTID                      0\n",
              "time_since_recent_payment       0\n",
              "time_since_first_deliquency     0\n",
              "time_since_recent_deliquency    0\n",
              "num_times_delinquent            0\n",
              "                               ..\n",
              "GL_Flag                         0\n",
              "last_prod_enq2                  0\n",
              "first_prod_enq2                 0\n",
              "Credit_Score                    0\n",
              "Approved_Flag                   0\n",
              "Length: 62, dtype: int64"
            ],
            "text/html": [
              "<div>\n",
              "<style scoped>\n",
              "    .dataframe tbody tr th:only-of-type {\n",
              "        vertical-align: middle;\n",
              "    }\n",
              "\n",
              "    .dataframe tbody tr th {\n",
              "        vertical-align: top;\n",
              "    }\n",
              "\n",
              "    .dataframe thead th {\n",
              "        text-align: right;\n",
              "    }\n",
              "</style>\n",
              "<table border=\"1\" class=\"dataframe\">\n",
              "  <thead>\n",
              "    <tr style=\"text-align: right;\">\n",
              "      <th></th>\n",
              "      <th>0</th>\n",
              "    </tr>\n",
              "  </thead>\n",
              "  <tbody>\n",
              "    <tr>\n",
              "      <th>PROSPECTID</th>\n",
              "      <td>0</td>\n",
              "    </tr>\n",
              "    <tr>\n",
              "      <th>time_since_recent_payment</th>\n",
              "      <td>0</td>\n",
              "    </tr>\n",
              "    <tr>\n",
              "      <th>time_since_first_deliquency</th>\n",
              "      <td>0</td>\n",
              "    </tr>\n",
              "    <tr>\n",
              "      <th>time_since_recent_deliquency</th>\n",
              "      <td>0</td>\n",
              "    </tr>\n",
              "    <tr>\n",
              "      <th>num_times_delinquent</th>\n",
              "      <td>0</td>\n",
              "    </tr>\n",
              "    <tr>\n",
              "      <th>...</th>\n",
              "      <td>...</td>\n",
              "    </tr>\n",
              "    <tr>\n",
              "      <th>GL_Flag</th>\n",
              "      <td>0</td>\n",
              "    </tr>\n",
              "    <tr>\n",
              "      <th>last_prod_enq2</th>\n",
              "      <td>0</td>\n",
              "    </tr>\n",
              "    <tr>\n",
              "      <th>first_prod_enq2</th>\n",
              "      <td>0</td>\n",
              "    </tr>\n",
              "    <tr>\n",
              "      <th>Credit_Score</th>\n",
              "      <td>0</td>\n",
              "    </tr>\n",
              "    <tr>\n",
              "      <th>Approved_Flag</th>\n",
              "      <td>0</td>\n",
              "    </tr>\n",
              "  </tbody>\n",
              "</table>\n",
              "<p>62 rows × 1 columns</p>\n",
              "</div><br><label><b>dtype:</b> int64</label>"
            ]
          },
          "metadata": {},
          "execution_count": 11
        }
      ]
    },
    {
      "cell_type": "code",
      "source": [
        "df1.columns"
      ],
      "metadata": {
        "colab": {
          "base_uri": "https://localhost:8080/"
        },
        "id": "hpb8OPQeBLI8",
        "outputId": "0c565716-cc16-4b22-9a19-cc3c5f2b9b8a"
      },
      "execution_count": null,
      "outputs": [
        {
          "output_type": "execute_result",
          "data": {
            "text/plain": [
              "Index(['PROSPECTID', 'Total_TL', 'Tot_Closed_TL', 'Tot_Active_TL',\n",
              "       'Total_TL_opened_L6M', 'Tot_TL_closed_L6M', 'pct_tl_open_L6M',\n",
              "       'pct_tl_closed_L6M', 'pct_active_tl', 'pct_closed_tl',\n",
              "       'Total_TL_opened_L12M', 'Tot_TL_closed_L12M', 'pct_tl_open_L12M',\n",
              "       'pct_tl_closed_L12M', 'Tot_Missed_Pmnt', 'Auto_TL', 'CC_TL',\n",
              "       'Consumer_TL', 'Gold_TL', 'Home_TL', 'PL_TL', 'Secured_TL',\n",
              "       'Unsecured_TL', 'Other_TL', 'Age_Oldest_TL', 'Age_Newest_TL'],\n",
              "      dtype='object')"
            ]
          },
          "metadata": {},
          "execution_count": 12
        }
      ]
    },
    {
      "cell_type": "code",
      "source": [
        "df1[df1['Age_Oldest_TL'] != -99999].count() # 51296 number of rows have non -99999 value."
      ],
      "metadata": {
        "colab": {
          "base_uri": "https://localhost:8080/",
          "height": 899
        },
        "id": "tByQmqM7BYua",
        "outputId": "70198f38-d5da-4b5f-f84d-06d443386a91"
      },
      "execution_count": null,
      "outputs": [
        {
          "output_type": "execute_result",
          "data": {
            "text/plain": [
              "PROSPECTID              51296\n",
              "Total_TL                51296\n",
              "Tot_Closed_TL           51296\n",
              "Tot_Active_TL           51296\n",
              "Total_TL_opened_L6M     51296\n",
              "Tot_TL_closed_L6M       51296\n",
              "pct_tl_open_L6M         51296\n",
              "pct_tl_closed_L6M       51296\n",
              "pct_active_tl           51296\n",
              "pct_closed_tl           51296\n",
              "Total_TL_opened_L12M    51296\n",
              "Tot_TL_closed_L12M      51296\n",
              "pct_tl_open_L12M        51296\n",
              "pct_tl_closed_L12M      51296\n",
              "Tot_Missed_Pmnt         51296\n",
              "Auto_TL                 51296\n",
              "CC_TL                   51296\n",
              "Consumer_TL             51296\n",
              "Gold_TL                 51296\n",
              "Home_TL                 51296\n",
              "PL_TL                   51296\n",
              "Secured_TL              51296\n",
              "Unsecured_TL            51296\n",
              "Other_TL                51296\n",
              "Age_Oldest_TL           51296\n",
              "Age_Newest_TL           51296\n",
              "dtype: int64"
            ],
            "text/html": [
              "<div>\n",
              "<style scoped>\n",
              "    .dataframe tbody tr th:only-of-type {\n",
              "        vertical-align: middle;\n",
              "    }\n",
              "\n",
              "    .dataframe tbody tr th {\n",
              "        vertical-align: top;\n",
              "    }\n",
              "\n",
              "    .dataframe thead th {\n",
              "        text-align: right;\n",
              "    }\n",
              "</style>\n",
              "<table border=\"1\" class=\"dataframe\">\n",
              "  <thead>\n",
              "    <tr style=\"text-align: right;\">\n",
              "      <th></th>\n",
              "      <th>0</th>\n",
              "    </tr>\n",
              "  </thead>\n",
              "  <tbody>\n",
              "    <tr>\n",
              "      <th>PROSPECTID</th>\n",
              "      <td>51296</td>\n",
              "    </tr>\n",
              "    <tr>\n",
              "      <th>Total_TL</th>\n",
              "      <td>51296</td>\n",
              "    </tr>\n",
              "    <tr>\n",
              "      <th>Tot_Closed_TL</th>\n",
              "      <td>51296</td>\n",
              "    </tr>\n",
              "    <tr>\n",
              "      <th>Tot_Active_TL</th>\n",
              "      <td>51296</td>\n",
              "    </tr>\n",
              "    <tr>\n",
              "      <th>Total_TL_opened_L6M</th>\n",
              "      <td>51296</td>\n",
              "    </tr>\n",
              "    <tr>\n",
              "      <th>Tot_TL_closed_L6M</th>\n",
              "      <td>51296</td>\n",
              "    </tr>\n",
              "    <tr>\n",
              "      <th>pct_tl_open_L6M</th>\n",
              "      <td>51296</td>\n",
              "    </tr>\n",
              "    <tr>\n",
              "      <th>pct_tl_closed_L6M</th>\n",
              "      <td>51296</td>\n",
              "    </tr>\n",
              "    <tr>\n",
              "      <th>pct_active_tl</th>\n",
              "      <td>51296</td>\n",
              "    </tr>\n",
              "    <tr>\n",
              "      <th>pct_closed_tl</th>\n",
              "      <td>51296</td>\n",
              "    </tr>\n",
              "    <tr>\n",
              "      <th>Total_TL_opened_L12M</th>\n",
              "      <td>51296</td>\n",
              "    </tr>\n",
              "    <tr>\n",
              "      <th>Tot_TL_closed_L12M</th>\n",
              "      <td>51296</td>\n",
              "    </tr>\n",
              "    <tr>\n",
              "      <th>pct_tl_open_L12M</th>\n",
              "      <td>51296</td>\n",
              "    </tr>\n",
              "    <tr>\n",
              "      <th>pct_tl_closed_L12M</th>\n",
              "      <td>51296</td>\n",
              "    </tr>\n",
              "    <tr>\n",
              "      <th>Tot_Missed_Pmnt</th>\n",
              "      <td>51296</td>\n",
              "    </tr>\n",
              "    <tr>\n",
              "      <th>Auto_TL</th>\n",
              "      <td>51296</td>\n",
              "    </tr>\n",
              "    <tr>\n",
              "      <th>CC_TL</th>\n",
              "      <td>51296</td>\n",
              "    </tr>\n",
              "    <tr>\n",
              "      <th>Consumer_TL</th>\n",
              "      <td>51296</td>\n",
              "    </tr>\n",
              "    <tr>\n",
              "      <th>Gold_TL</th>\n",
              "      <td>51296</td>\n",
              "    </tr>\n",
              "    <tr>\n",
              "      <th>Home_TL</th>\n",
              "      <td>51296</td>\n",
              "    </tr>\n",
              "    <tr>\n",
              "      <th>PL_TL</th>\n",
              "      <td>51296</td>\n",
              "    </tr>\n",
              "    <tr>\n",
              "      <th>Secured_TL</th>\n",
              "      <td>51296</td>\n",
              "    </tr>\n",
              "    <tr>\n",
              "      <th>Unsecured_TL</th>\n",
              "      <td>51296</td>\n",
              "    </tr>\n",
              "    <tr>\n",
              "      <th>Other_TL</th>\n",
              "      <td>51296</td>\n",
              "    </tr>\n",
              "    <tr>\n",
              "      <th>Age_Oldest_TL</th>\n",
              "      <td>51296</td>\n",
              "    </tr>\n",
              "    <tr>\n",
              "      <th>Age_Newest_TL</th>\n",
              "      <td>51296</td>\n",
              "    </tr>\n",
              "  </tbody>\n",
              "</table>\n",
              "</div><br><label><b>dtype:</b> int64</label>"
            ]
          },
          "metadata": {},
          "execution_count": 13
        }
      ]
    },
    {
      "cell_type": "code",
      "execution_count": null,
      "metadata": {
        "id": "G9NUtovjafez"
      },
      "outputs": [],
      "source": [
        "# Remove nulls\n",
        "df1 = df1.loc[df1['Age_Oldest_TL'] != -99999]"
      ]
    },
    {
      "cell_type": "code",
      "execution_count": null,
      "metadata": {
        "id": "AuQQglfcafez"
      },
      "outputs": [],
      "source": [
        "columns_to_be_removed = []\n",
        "\n",
        "for i in df2.columns:\n",
        "    if df2.loc[df2[i] == -99999].shape[0] > 10000:\n",
        "        columns_to_be_removed .append(i)\n"
      ]
    },
    {
      "cell_type": "code",
      "source": [
        "df2.columns"
      ],
      "metadata": {
        "colab": {
          "base_uri": "https://localhost:8080/"
        },
        "id": "ndJhTfFsJE9w",
        "outputId": "d057a0c3-5f25-4572-9818-e8654b40e07c"
      },
      "execution_count": null,
      "outputs": [
        {
          "output_type": "execute_result",
          "data": {
            "text/plain": [
              "Index(['PROSPECTID', 'time_since_recent_payment',\n",
              "       'time_since_first_deliquency', 'time_since_recent_deliquency',\n",
              "       'num_times_delinquent', 'max_delinquency_level',\n",
              "       'max_recent_level_of_deliq', 'num_deliq_6mts', 'num_deliq_12mts',\n",
              "       'num_deliq_6_12mts', 'max_deliq_6mts', 'max_deliq_12mts',\n",
              "       'num_times_30p_dpd', 'num_times_60p_dpd', 'num_std', 'num_std_6mts',\n",
              "       'num_std_12mts', 'num_sub', 'num_sub_6mts', 'num_sub_12mts', 'num_dbt',\n",
              "       'num_dbt_6mts', 'num_dbt_12mts', 'num_lss', 'num_lss_6mts',\n",
              "       'num_lss_12mts', 'recent_level_of_deliq', 'tot_enq', 'CC_enq',\n",
              "       'CC_enq_L6m', 'CC_enq_L12m', 'PL_enq', 'PL_enq_L6m', 'PL_enq_L12m',\n",
              "       'time_since_recent_enq', 'enq_L12m', 'enq_L6m', 'enq_L3m',\n",
              "       'MARITALSTATUS', 'EDUCATION', 'AGE', 'GENDER', 'NETMONTHLYINCOME',\n",
              "       'Time_With_Curr_Empr', 'pct_of_active_TLs_ever',\n",
              "       'pct_opened_TLs_L6m_of_L12m', 'pct_currentBal_all_TL', 'CC_utilization',\n",
              "       'CC_Flag', 'PL_utilization', 'PL_Flag', 'pct_PL_enq_L6m_of_L12m',\n",
              "       'pct_CC_enq_L6m_of_L12m', 'pct_PL_enq_L6m_of_ever',\n",
              "       'pct_CC_enq_L6m_of_ever', 'max_unsec_exposure_inPct', 'HL_Flag',\n",
              "       'GL_Flag', 'last_prod_enq2', 'first_prod_enq2', 'Credit_Score',\n",
              "       'Approved_Flag'],\n",
              "      dtype='object')"
            ]
          },
          "metadata": {},
          "execution_count": 16
        }
      ]
    },
    {
      "cell_type": "code",
      "execution_count": null,
      "metadata": {
        "colab": {
          "base_uri": "https://localhost:8080/"
        },
        "id": "Ld6sfwwUafez",
        "outputId": "63c7ef1c-ac17-4524-baa7-25a8e3a657be"
      },
      "outputs": [
        {
          "output_type": "stream",
          "name": "stdout",
          "text": [
            "PROSPECTID\n"
          ]
        }
      ],
      "source": [
        "df2 = df2.drop(columns_to_be_removed, axis =1)\n",
        "\n",
        "for i in df2.columns:\n",
        "    df2 = df2.loc[ df2[i] != -99999 ]\n",
        "\n",
        "# Checking common column names\n",
        "for i in list(df1.columns):\n",
        "    if i in list(df2.columns):\n",
        "        print (i)\n"
      ]
    },
    {
      "cell_type": "code",
      "source": [
        "# Checking common column names\n",
        "for i in list(df1.columns):\n",
        "    if i in list(df2.columns):\n",
        "        print (i)\n"
      ],
      "metadata": {
        "colab": {
          "base_uri": "https://localhost:8080/"
        },
        "id": "W8kUmRxYIk-E",
        "outputId": "7862ea7d-e7e4-4552-e342-ff581824f228"
      },
      "execution_count": null,
      "outputs": [
        {
          "output_type": "stream",
          "name": "stdout",
          "text": [
            "PROSPECTID\n"
          ]
        }
      ]
    },
    {
      "cell_type": "code",
      "execution_count": null,
      "metadata": {
        "id": "SI2II9tfafe0"
      },
      "outputs": [],
      "source": [
        "# Merge the two dataframes, inner join so that no nulls are present\n",
        "df = pd. merge ( df1, df2, how ='inner', left_on = ['PROSPECTID'], right_on = ['PROSPECTID'] )"
      ]
    },
    {
      "cell_type": "code",
      "execution_count": null,
      "metadata": {
        "colab": {
          "base_uri": "https://localhost:8080/"
        },
        "id": "yEEfB51aafe0",
        "outputId": "81663c3f-c747-473b-ac23-5c853a118472"
      },
      "outputs": [
        {
          "output_type": "execute_result",
          "data": {
            "text/plain": [
              "np.int64(0)"
            ]
          },
          "metadata": {},
          "execution_count": 20
        }
      ],
      "source": [
        "df.isna().sum().sum()"
      ]
    },
    {
      "cell_type": "code",
      "execution_count": null,
      "metadata": {
        "colab": {
          "base_uri": "https://localhost:8080/"
        },
        "id": "FSL3j8Mvafe0",
        "outputId": "443899a4-bb5b-4941-f4ba-9341c7988abb"
      },
      "outputs": [
        {
          "output_type": "stream",
          "name": "stdout",
          "text": [
            "MARITALSTATUS\n",
            "EDUCATION\n",
            "GENDER\n",
            "last_prod_enq2\n",
            "first_prod_enq2\n",
            "Approved_Flag\n"
          ]
        }
      ],
      "source": [
        "# check how many columns are categorical\n",
        "for i in df.columns:\n",
        "    if df[i].dtype == 'object':\n",
        "        print(i)"
      ]
    },
    {
      "cell_type": "code",
      "execution_count": null,
      "metadata": {
        "colab": {
          "base_uri": "https://localhost:8080/"
        },
        "id": "OjFQpe6nafe0",
        "outputId": "570758f6-d7e3-44b9-fbd7-5d7b4578918b"
      },
      "outputs": [
        {
          "output_type": "stream",
          "name": "stdout",
          "text": [
            "MARITALSTATUS --- 3.578180861038862e-233\n",
            "EDUCATION --- 2.6942265249737532e-30\n",
            "GENDER --- 1.907936100186563e-05\n",
            "last_prod_enq2 --- 0.0\n",
            "first_prod_enq2 --- 7.84997610555419e-287\n"
          ]
        }
      ],
      "source": [
        "# Chi-square test\n",
        "for i in ['MARITALSTATUS', 'EDUCATION', 'GENDER', 'last_prod_enq2', 'first_prod_enq2']:\n",
        "    chi2, pval, _, _ = chi2_contingency(pd.crosstab(df[i], df['Approved_Flag']))\n",
        "    print(i, '---', pval)"
      ]
    },
    {
      "cell_type": "code",
      "execution_count": null,
      "metadata": {
        "id": "ZoCc8Ln5afe0"
      },
      "outputs": [],
      "source": [
        "# VIF for numerical columns\n",
        "numeric_columns = []\n",
        "for i in df.columns:\n",
        "    if df[i].dtype != 'object' and i not in ['PROSPECTID','Approved_Flag']:\n",
        "        numeric_columns.append(i)"
      ]
    },
    {
      "cell_type": "code",
      "execution_count": null,
      "metadata": {
        "id": "XueoWzcYafe1"
      },
      "outputs": [],
      "source": [
        "# VIF sequentially check\n",
        "\n",
        "vif_data = df[numeric_columns]\n",
        "total_columns = vif_data.shape[1]\n",
        "columns_to_be_kept = []\n",
        "column_index = 0"
      ]
    },
    {
      "cell_type": "markdown",
      "source": [
        "Here's a compact table comparing sequential and parallel VIF calculation:\n",
        "\n",
        "| Aspect | Sequential VIF | Parallel VIF |\n",
        "|--------|----------------|--------------|\n",
        "| Execution | One predictor at a time | Multiple predictors simultaneously |\n",
        "| Speed | Slower, especially for large datasets | Faster, leverages multi-core processing |\n",
        "| Resource Use | Less intensive | More intensive, utilizes multiple cores |\n",
        "| Implementation | Simpler | More complex, may require specialized libraries |\n",
        "| Scalability | Limited for large datasets | Better for large datasets or many predictors |\n",
        "| Calculation Method | Same mathematical formula | Same mathematical formula |\n",
        "| Result Interpretation | No difference | No difference |\n",
        "\n"
      ],
      "metadata": {
        "id": "Cok9B5OZpXme"
      }
    },
    {
      "cell_type": "markdown",
      "source": [
        "**Here we are doing sequential VIF.\n",
        "On ruuning sequential VIF, the number of columns drop from 72 to 39.\n",
        "In case of parallel, its 37.**"
      ],
      "metadata": {
        "id": "ZXZ8raR9qO-C"
      }
    },
    {
      "cell_type": "code",
      "execution_count": null,
      "metadata": {
        "colab": {
          "base_uri": "https://localhost:8080/"
        },
        "id": "_2G0jUJxafe1",
        "outputId": "c5e8d4e6-c320-4ef1-ded6-df753d3b4263"
      },
      "outputs": [
        {
          "output_type": "stream",
          "name": "stderr",
          "text": [
            "/usr/local/lib/python3.11/dist-packages/statsmodels/stats/outliers_influence.py:197: RuntimeWarning: divide by zero encountered in scalar divide\n",
            "  vif = 1. / (1. - r_squared_i)\n"
          ]
        },
        {
          "output_type": "stream",
          "name": "stdout",
          "text": [
            "0 --- inf\n"
          ]
        },
        {
          "output_type": "stream",
          "name": "stderr",
          "text": [
            "/usr/local/lib/python3.11/dist-packages/statsmodels/stats/outliers_influence.py:197: RuntimeWarning: divide by zero encountered in scalar divide\n",
            "  vif = 1. / (1. - r_squared_i)\n"
          ]
        },
        {
          "output_type": "stream",
          "name": "stdout",
          "text": [
            "0 --- inf\n",
            "0 --- 11.320180023967996\n",
            "0 --- 8.363698035000327\n",
            "0 --- 6.520647877790928\n",
            "0 --- 5.149501618212625\n",
            "1 --- 2.611111040579735\n"
          ]
        },
        {
          "output_type": "stream",
          "name": "stderr",
          "text": [
            "/usr/local/lib/python3.11/dist-packages/statsmodels/stats/outliers_influence.py:197: RuntimeWarning: divide by zero encountered in scalar divide\n",
            "  vif = 1. / (1. - r_squared_i)\n"
          ]
        },
        {
          "output_type": "stream",
          "name": "stdout",
          "text": [
            "2 --- inf\n",
            "2 --- 1788.7926256209232\n",
            "2 --- 8.601028256477228\n",
            "2 --- 3.8328007921530785\n",
            "3 --- 6.099653381646723\n",
            "3 --- 5.581352009642766\n",
            "4 --- 1.9855843530987776\n"
          ]
        },
        {
          "output_type": "stream",
          "name": "stderr",
          "text": [
            "/usr/local/lib/python3.11/dist-packages/statsmodels/stats/outliers_influence.py:197: RuntimeWarning: divide by zero encountered in scalar divide\n",
            "  vif = 1. / (1. - r_squared_i)\n"
          ]
        },
        {
          "output_type": "stream",
          "name": "stdout",
          "text": [
            "5 --- inf\n",
            "5 --- 4.809538302819343\n",
            "6 --- 23.270628983464636\n",
            "6 --- 30.595522588100053\n",
            "6 --- 4.3843464059655854\n",
            "7 --- 3.064658415523423\n",
            "8 --- 2.898639771299253\n",
            "9 --- 4.377876915347322\n",
            "10 --- 2.207853583695844\n",
            "11 --- 4.916914200506861\n",
            "12 --- 5.214702030064725\n",
            "13 --- 3.3861625024231476\n",
            "14 --- 7.840583309478997\n",
            "14 --- 5.255034641721438\n"
          ]
        },
        {
          "output_type": "stream",
          "name": "stderr",
          "text": [
            "/usr/local/lib/python3.11/dist-packages/statsmodels/stats/outliers_influence.py:197: RuntimeWarning: divide by zero encountered in scalar divide\n",
            "  vif = 1. / (1. - r_squared_i)\n"
          ]
        },
        {
          "output_type": "stream",
          "name": "stdout",
          "text": [
            "15 --- inf\n",
            "15 --- 7.380634506427238\n",
            "15 --- 1.4210050015175735\n",
            "16 --- 8.083255010190316\n",
            "16 --- 1.624122752404011\n",
            "17 --- 7.257811920140003\n",
            "17 --- 15.59624383268298\n",
            "17 --- 1.8258570471324318\n",
            "18 --- 1.5080839450032664\n",
            "19 --- 2.1720888348245753\n",
            "20 --- 2.623397553527229\n",
            "21 --- 2.2959970812106167\n",
            "22 --- 7.360578319196439\n",
            "22 --- 2.1602387773102554\n",
            "23 --- 2.8686288267891444\n",
            "24 --- 6.458218003637272\n",
            "24 --- 2.847411886563824\n",
            "25 --- 4.75319815628408\n",
            "26 --- 16.22735475594825\n",
            "26 --- 6.424377256363877\n",
            "26 --- 8.887080381808678\n",
            "26 --- 2.3804746142952666\n",
            "27 --- 8.609513476514548\n",
            "27 --- 13.06755093547673\n",
            "27 --- 3.500040056654653\n",
            "28 --- 1.9087955874813773\n",
            "29 --- 17.006562234161628\n",
            "29 --- 10.730485153719197\n",
            "29 --- 2.3538497522950275\n",
            "30 --- 22.104855915136433\n",
            "30 --- 2.7971639638512915\n",
            "31 --- 3.424171203217697\n",
            "32 --- 10.175021454450922\n",
            "32 --- 6.408710354561292\n",
            "32 --- 1.001151196262563\n",
            "33 --- 3.069197305397274\n",
            "34 --- 2.8091261600643707\n",
            "35 --- 20.249538381980678\n",
            "35 --- 15.864576541593745\n",
            "35 --- 1.8331649740532152\n",
            "36 --- 1.5680839909542044\n",
            "37 --- 1.9307572353811688\n",
            "38 --- 4.331265056645249\n",
            "39 --- 9.390334396150173\n"
          ]
        }
      ],
      "source": [
        "for i in range (0,total_columns):\n",
        "\n",
        "    vif_value = variance_inflation_factor(vif_data, column_index)\n",
        "    print (column_index,'---',vif_value)\n",
        "\n",
        "\n",
        "    if vif_value <= 6:\n",
        "        columns_to_be_kept.append( numeric_columns[i] )\n",
        "        column_index = column_index+1\n",
        "\n",
        "    else:\n",
        "        vif_data = vif_data.drop([ numeric_columns[i] ] , axis=1)"
      ]
    },
    {
      "cell_type": "code",
      "execution_count": null,
      "metadata": {
        "id": "W5ZL5BEHafe1"
      },
      "outputs": [],
      "source": [
        "# check Anova for columns_to_be_kept\n",
        "\n",
        "from scipy.stats import f_oneway\n",
        "\n",
        "columns_to_be_kept_numerical = []\n",
        "\n",
        "for i in columns_to_be_kept:\n",
        "    a = list(df[i])\n",
        "    b = list(df['Approved_Flag'])\n",
        "\n",
        "    group_P1 = [value for value, group in zip(a, b) if group == 'P1']\n",
        "    group_P2 = [value for value, group in zip(a, b) if group == 'P2']\n",
        "    group_P3 = [value for value, group in zip(a, b) if group == 'P3']\n",
        "    group_P4 = [value for value, group in zip(a, b) if group == 'P4']\n",
        "\n",
        "\n",
        "    f_statistic, p_value = f_oneway(group_P1, group_P2, group_P3, group_P4)\n",
        "\n",
        "    if p_value <= 0.05:\n",
        "        columns_to_be_kept_numerical.append(i)"
      ]
    },
    {
      "cell_type": "code",
      "source": [
        "len(columns_to_be_kept_numerical)"
      ],
      "metadata": {
        "colab": {
          "base_uri": "https://localhost:8080/"
        },
        "id": "057gch9fQ0KO",
        "outputId": "9931e9c3-926e-4443-b0ae-b3960e7a5468"
      },
      "execution_count": null,
      "outputs": [
        {
          "output_type": "execute_result",
          "data": {
            "text/plain": [
              "37"
            ]
          },
          "metadata": {},
          "execution_count": 27
        }
      ]
    },
    {
      "cell_type": "markdown",
      "source": [
        " **After applying ANOVA, we have 37 column**."
      ],
      "metadata": {
        "id": "hrP7E7fGrMX4"
      }
    },
    {
      "cell_type": "code",
      "execution_count": null,
      "metadata": {
        "colab": {
          "base_uri": "https://localhost:8080/"
        },
        "id": "UKBoKsROafe1",
        "outputId": "ebd1efda-bcbc-49fc-df09-71bc085e9927"
      },
      "outputs": [
        {
          "output_type": "execute_result",
          "data": {
            "text/plain": [
              "np.float64(507.29276705297787)"
            ]
          },
          "metadata": {},
          "execution_count": 28
        }
      ],
      "source": [
        "f_statistic"
      ]
    },
    {
      "cell_type": "code",
      "execution_count": null,
      "metadata": {
        "colab": {
          "base_uri": "https://localhost:8080/"
        },
        "id": "n_cHPk74afe1",
        "outputId": "e0fe58f6-b130-47bd-95e7-5a4ae65d901e"
      },
      "outputs": [
        {
          "output_type": "execute_result",
          "data": {
            "text/plain": [
              "np.float64(5e-324)"
            ]
          },
          "metadata": {},
          "execution_count": 29
        }
      ],
      "source": [
        "p_value"
      ]
    },
    {
      "cell_type": "code",
      "execution_count": null,
      "metadata": {
        "id": "ApMLlQ4Nafe1"
      },
      "outputs": [],
      "source": [
        "\n",
        "# listing all the final features\n",
        "features = columns_to_be_kept_numerical + ['MARITALSTATUS', 'EDUCATION', 'GENDER', 'last_prod_enq2', 'first_prod_enq2']\n",
        "df = df[features + ['Approved_Flag']]"
      ]
    },
    {
      "cell_type": "code",
      "execution_count": null,
      "metadata": {
        "colab": {
          "base_uri": "https://localhost:8080/"
        },
        "id": "8V9CdkhYafe1",
        "outputId": "1f4196c6-1018-451e-fef1-8350c391b2b0"
      },
      "outputs": [
        {
          "output_type": "execute_result",
          "data": {
            "text/plain": [
              "array(['PL', 'ConsumerLoan', 'others', 'AL', 'HL', 'CC'], dtype=object)"
            ]
          },
          "metadata": {},
          "execution_count": 31
        }
      ],
      "source": [
        "# Label encoding for the categorical features\n",
        "['MARITALSTATUS', 'EDUCATION', 'GENDER' , 'last_prod_enq2' ,'first_prod_enq2']\n",
        "\n",
        "df['MARITALSTATUS'].unique()\n",
        "df['EDUCATION'].unique()\n",
        "df['GENDER'].unique()\n",
        "df['last_prod_enq2'].unique()\n",
        "df['first_prod_enq2'].unique()\n"
      ]
    },
    {
      "cell_type": "code",
      "execution_count": null,
      "metadata": {
        "id": "JCpOakQEafe2"
      },
      "outputs": [],
      "source": [
        "# Ordinal feature -- EDUCATION\n",
        "# SSC            : 1\n",
        "# 12TH           : 2\n",
        "# GRADUATE       : 3\n",
        "# UNDER GRADUATE : 3\n",
        "# POST-GRADUATE  : 4\n",
        "# OTHERS         : 1\n",
        "# PROFESSIONAL   : 3\n",
        "\n",
        "\n",
        "# Others has to be verified by the business end user\n",
        "\n",
        "\n",
        "\n",
        "\n",
        "df.loc[df['EDUCATION'] == 'SSC',['EDUCATION']]              = 1\n",
        "df.loc[df['EDUCATION'] == '12TH',['EDUCATION']]             = 2\n",
        "df.loc[df['EDUCATION'] == 'GRADUATE',['EDUCATION']]         = 3\n",
        "df.loc[df['EDUCATION'] == 'UNDER GRADUATE',['EDUCATION']]   = 3\n",
        "df.loc[df['EDUCATION'] == 'POST-GRADUATE',['EDUCATION']]    = 4\n",
        "df.loc[df['EDUCATION'] == 'OTHERS',['EDUCATION']]           = 1\n",
        "df.loc[df['EDUCATION'] == 'PROFESSIONAL',['EDUCATION']]     = 3"
      ]
    },
    {
      "cell_type": "code",
      "execution_count": null,
      "metadata": {
        "colab": {
          "base_uri": "https://localhost:8080/"
        },
        "id": "dZ7Hb5noafe2",
        "outputId": "7c489a73-9506-4ef8-f2d1-ebc26c10ba29"
      },
      "outputs": [
        {
          "output_type": "stream",
          "name": "stdout",
          "text": [
            "<class 'pandas.core.frame.DataFrame'>\n",
            "RangeIndex: 42064 entries, 0 to 42063\n",
            "Data columns (total 43 columns):\n",
            " #   Column                     Non-Null Count  Dtype  \n",
            "---  ------                     --------------  -----  \n",
            " 0   pct_tl_open_L6M            42064 non-null  float64\n",
            " 1   pct_tl_closed_L6M          42064 non-null  float64\n",
            " 2   Tot_TL_closed_L12M         42064 non-null  int64  \n",
            " 3   pct_tl_closed_L12M         42064 non-null  float64\n",
            " 4   Tot_Missed_Pmnt            42064 non-null  int64  \n",
            " 5   CC_TL                      42064 non-null  int64  \n",
            " 6   Home_TL                    42064 non-null  int64  \n",
            " 7   PL_TL                      42064 non-null  int64  \n",
            " 8   Secured_TL                 42064 non-null  int64  \n",
            " 9   Unsecured_TL               42064 non-null  int64  \n",
            " 10  Other_TL                   42064 non-null  int64  \n",
            " 11  Age_Oldest_TL              42064 non-null  int64  \n",
            " 12  Age_Newest_TL              42064 non-null  int64  \n",
            " 13  time_since_recent_payment  42064 non-null  int64  \n",
            " 14  max_recent_level_of_deliq  42064 non-null  int64  \n",
            " 15  num_deliq_6_12mts          42064 non-null  int64  \n",
            " 16  num_times_60p_dpd          42064 non-null  int64  \n",
            " 17  num_std_12mts              42064 non-null  int64  \n",
            " 18  num_sub                    42064 non-null  int64  \n",
            " 19  num_sub_6mts               42064 non-null  int64  \n",
            " 20  num_sub_12mts              42064 non-null  int64  \n",
            " 21  num_dbt                    42064 non-null  int64  \n",
            " 22  num_dbt_12mts              42064 non-null  int64  \n",
            " 23  num_lss                    42064 non-null  int64  \n",
            " 24  recent_level_of_deliq      42064 non-null  int64  \n",
            " 25  CC_enq_L12m                42064 non-null  int64  \n",
            " 26  PL_enq_L12m                42064 non-null  int64  \n",
            " 27  time_since_recent_enq      42064 non-null  int64  \n",
            " 28  enq_L3m                    42064 non-null  int64  \n",
            " 29  NETMONTHLYINCOME           42064 non-null  int64  \n",
            " 30  Time_With_Curr_Empr        42064 non-null  int64  \n",
            " 31  CC_Flag                    42064 non-null  int64  \n",
            " 32  PL_Flag                    42064 non-null  int64  \n",
            " 33  pct_PL_enq_L6m_of_ever     42064 non-null  float64\n",
            " 34  pct_CC_enq_L6m_of_ever     42064 non-null  float64\n",
            " 35  HL_Flag                    42064 non-null  int64  \n",
            " 36  GL_Flag                    42064 non-null  int64  \n",
            " 37  MARITALSTATUS              42064 non-null  object \n",
            " 38  EDUCATION                  42064 non-null  int64  \n",
            " 39  GENDER                     42064 non-null  object \n",
            " 40  last_prod_enq2             42064 non-null  object \n",
            " 41  first_prod_enq2            42064 non-null  object \n",
            " 42  Approved_Flag              42064 non-null  object \n",
            "dtypes: float64(5), int64(33), object(5)\n",
            "memory usage: 13.8+ MB\n"
          ]
        }
      ],
      "source": [
        "df['EDUCATION'].value_counts()\n",
        "df['EDUCATION'] = df['EDUCATION'].astype(int)\n",
        "df.info()"
      ]
    },
    {
      "cell_type": "code",
      "execution_count": null,
      "metadata": {
        "colab": {
          "base_uri": "https://localhost:8080/"
        },
        "id": "7PJGKpXoafe2",
        "outputId": "059063d5-f56e-4c72-fb6b-a3731df58df0"
      },
      "outputs": [
        {
          "output_type": "stream",
          "name": "stdout",
          "text": [
            "<class 'pandas.core.frame.DataFrame'>\n",
            "RangeIndex: 42064 entries, 0 to 42063\n",
            "Data columns (total 55 columns):\n",
            " #   Column                        Non-Null Count  Dtype  \n",
            "---  ------                        --------------  -----  \n",
            " 0   pct_tl_open_L6M               42064 non-null  float64\n",
            " 1   pct_tl_closed_L6M             42064 non-null  float64\n",
            " 2   Tot_TL_closed_L12M            42064 non-null  int64  \n",
            " 3   pct_tl_closed_L12M            42064 non-null  float64\n",
            " 4   Tot_Missed_Pmnt               42064 non-null  int64  \n",
            " 5   CC_TL                         42064 non-null  int64  \n",
            " 6   Home_TL                       42064 non-null  int64  \n",
            " 7   PL_TL                         42064 non-null  int64  \n",
            " 8   Secured_TL                    42064 non-null  int64  \n",
            " 9   Unsecured_TL                  42064 non-null  int64  \n",
            " 10  Other_TL                      42064 non-null  int64  \n",
            " 11  Age_Oldest_TL                 42064 non-null  int64  \n",
            " 12  Age_Newest_TL                 42064 non-null  int64  \n",
            " 13  time_since_recent_payment     42064 non-null  int64  \n",
            " 14  max_recent_level_of_deliq     42064 non-null  int64  \n",
            " 15  num_deliq_6_12mts             42064 non-null  int64  \n",
            " 16  num_times_60p_dpd             42064 non-null  int64  \n",
            " 17  num_std_12mts                 42064 non-null  int64  \n",
            " 18  num_sub                       42064 non-null  int64  \n",
            " 19  num_sub_6mts                  42064 non-null  int64  \n",
            " 20  num_sub_12mts                 42064 non-null  int64  \n",
            " 21  num_dbt                       42064 non-null  int64  \n",
            " 22  num_dbt_12mts                 42064 non-null  int64  \n",
            " 23  num_lss                       42064 non-null  int64  \n",
            " 24  recent_level_of_deliq         42064 non-null  int64  \n",
            " 25  CC_enq_L12m                   42064 non-null  int64  \n",
            " 26  PL_enq_L12m                   42064 non-null  int64  \n",
            " 27  time_since_recent_enq         42064 non-null  int64  \n",
            " 28  enq_L3m                       42064 non-null  int64  \n",
            " 29  NETMONTHLYINCOME              42064 non-null  int64  \n",
            " 30  Time_With_Curr_Empr           42064 non-null  int64  \n",
            " 31  CC_Flag                       42064 non-null  int64  \n",
            " 32  PL_Flag                       42064 non-null  int64  \n",
            " 33  pct_PL_enq_L6m_of_ever        42064 non-null  float64\n",
            " 34  pct_CC_enq_L6m_of_ever        42064 non-null  float64\n",
            " 35  HL_Flag                       42064 non-null  int64  \n",
            " 36  GL_Flag                       42064 non-null  int64  \n",
            " 37  EDUCATION                     42064 non-null  int64  \n",
            " 38  Approved_Flag                 42064 non-null  object \n",
            " 39  MARITALSTATUS_Married         42064 non-null  bool   \n",
            " 40  MARITALSTATUS_Single          42064 non-null  bool   \n",
            " 41  GENDER_F                      42064 non-null  bool   \n",
            " 42  GENDER_M                      42064 non-null  bool   \n",
            " 43  last_prod_enq2_AL             42064 non-null  bool   \n",
            " 44  last_prod_enq2_CC             42064 non-null  bool   \n",
            " 45  last_prod_enq2_ConsumerLoan   42064 non-null  bool   \n",
            " 46  last_prod_enq2_HL             42064 non-null  bool   \n",
            " 47  last_prod_enq2_PL             42064 non-null  bool   \n",
            " 48  last_prod_enq2_others         42064 non-null  bool   \n",
            " 49  first_prod_enq2_AL            42064 non-null  bool   \n",
            " 50  first_prod_enq2_CC            42064 non-null  bool   \n",
            " 51  first_prod_enq2_ConsumerLoan  42064 non-null  bool   \n",
            " 52  first_prod_enq2_HL            42064 non-null  bool   \n",
            " 53  first_prod_enq2_PL            42064 non-null  bool   \n",
            " 54  first_prod_enq2_others        42064 non-null  bool   \n",
            "dtypes: bool(16), float64(5), int64(33), object(1)\n",
            "memory usage: 13.2+ MB\n"
          ]
        }
      ],
      "source": [
        "df_encoded = pd.get_dummies(df, columns=['MARITALSTATUS','GENDER', 'last_prod_enq2' ,'first_prod_enq2'])\n",
        "\n",
        "df_encoded.info()\n",
        "k = df_encoded.describe()\n"
      ]
    },
    {
      "cell_type": "code",
      "execution_count": null,
      "metadata": {
        "id": "ywlLZdiDafe2",
        "colab": {
          "base_uri": "https://localhost:8080/"
        },
        "outputId": "d87a8934-177c-47f8-a0c2-aba66694c0ed"
      },
      "outputs": [
        {
          "output_type": "stream",
          "name": "stdout",
          "text": [
            "\n",
            "Accuracy: 0.7636990372043266\n",
            "\n",
            "Class p1:\n",
            "Precision: 0.8370457209847597\n",
            "Recall: 0.7041420118343196\n",
            "F1 Score: 0.7648634172469202\n",
            "\n",
            "Class p2:\n",
            "Precision: 0.7957519116397621\n",
            "Recall: 0.9282457879088206\n",
            "F1 Score: 0.856907593778591\n",
            "\n",
            "Class p3:\n",
            "Precision: 0.4423380726698262\n",
            "Recall: 0.21132075471698114\n",
            "F1 Score: 0.28600612870275793\n",
            "\n",
            "Class p4:\n",
            "Precision: 0.7178502879078695\n",
            "Recall: 0.7269193391642371\n",
            "F1 Score: 0.7223563495895703\n",
            "\n"
          ]
        }
      ],
      "source": [
        "# Machine Learing model fitting\n",
        "\n",
        "# Data processing\n",
        "# 1. Random Forest\n",
        "y = df_encoded['Approved_Flag']\n",
        "x = df_encoded. drop ( ['Approved_Flag'], axis = 1 )\n",
        "x_train, x_test, y_train, y_test = train_test_split(x, y, test_size=0.2, random_state=42)\n",
        "rf_classifier = RandomForestClassifier(n_estimators = 200, random_state=42)\n",
        "rf_classifier.fit(x_train, y_train)\n",
        "y_pred = rf_classifier.predict(x_test)\n",
        "\n",
        "accuracy = accuracy_score(y_test, y_pred)\n",
        "print ()\n",
        "print(f'Accuracy: {accuracy}')\n",
        "print ()\n",
        "precision, recall, f1_score, _ = precision_recall_fscore_support(y_test, y_pred)\n",
        "\n",
        "\n",
        "for i, v in enumerate(['p1', 'p2', 'p3', 'p4']):\n",
        "    print(f\"Class {v}:\")\n",
        "    print(f\"Precision: {precision[i]}\")\n",
        "    print(f\"Recall: {recall[i]}\")\n",
        "    print(f\"F1 Score: {f1_score[i]}\")\n",
        "    print()\n",
        "\n"
      ]
    },
    {
      "cell_type": "code",
      "execution_count": null,
      "metadata": {
        "id": "HCUoIoEhafe2",
        "colab": {
          "base_uri": "https://localhost:8080/"
        },
        "outputId": "5876607f-6137-4355-e421-3f97e802fd3c"
      },
      "outputs": [
        {
          "output_type": "stream",
          "name": "stdout",
          "text": [
            "\u001b[2K   \u001b[90m━━━━━━━━━━━━━━━━━━━━━━━━━━━━━━━━━━━━━━━━\u001b[0m \u001b[32m253.9/253.9 MB\u001b[0m \u001b[31m5.3 MB/s\u001b[0m eta \u001b[36m0:00:00\u001b[0m\n",
            "\u001b[?25h"
          ]
        }
      ],
      "source": [
        "!pip install xgboost -U -q"
      ]
    },
    {
      "cell_type": "code",
      "execution_count": null,
      "metadata": {
        "id": "FmPfSa7Xafe6",
        "colab": {
          "base_uri": "https://localhost:8080/"
        },
        "outputId": "2acd0fe2-cf5b-4d2a-9808-a8b5ae402ca8"
      },
      "outputs": [
        {
          "output_type": "stream",
          "name": "stdout",
          "text": [
            "\n",
            "Accuracy: 0.78\n",
            "\n",
            "Class p1:\n",
            "Precision: 0.823906083244397\n",
            "Recall: 0.7613412228796844\n",
            "F1 Score: 0.7913890312660175\n",
            "\n",
            "Class p2:\n",
            "Precision: 0.8255418233924413\n",
            "Recall: 0.913577799801784\n",
            "F1 Score: 0.8673315769665035\n",
            "\n",
            "Class p3:\n",
            "Precision: 0.4756380510440835\n",
            "Recall: 0.30943396226415093\n",
            "F1 Score: 0.37494284407864653\n",
            "\n",
            "Class p4:\n",
            "Precision: 0.7342386032977691\n",
            "Recall: 0.7356656948493683\n",
            "F1 Score: 0.7349514563106796\n",
            "\n"
          ]
        }
      ],
      "source": [
        "# 2. xgboost\n",
        "\n",
        "import xgboost as xgb\n",
        "from sklearn.preprocessing import LabelEncoder\n",
        "\n",
        "xgb_classifier = xgb.XGBClassifier(objective='multi:softmax',  num_class=4)\n",
        "\n",
        "\n",
        "\n",
        "y = df_encoded['Approved_Flag']\n",
        "x = df_encoded. drop ( ['Approved_Flag'], axis = 1 )\n",
        "\n",
        "\n",
        "label_encoder = LabelEncoder()\n",
        "y_encoded = label_encoder.fit_transform(y)\n",
        "\n",
        "\n",
        "x_train, x_test, y_train, y_test = train_test_split(x, y_encoded, test_size=0.2, random_state=42)\n",
        "\n",
        "\n",
        "\n",
        "\n",
        "xgb_classifier.fit(x_train, y_train)\n",
        "y_pred = xgb_classifier.predict(x_test)\n",
        "\n",
        "accuracy = accuracy_score(y_test, y_pred)\n",
        "print ()\n",
        "print(f'Accuracy: {accuracy:.2f}')\n",
        "print ()\n",
        "\n",
        "precision, recall, f1_score, _ = precision_recall_fscore_support(y_test, y_pred)\n",
        "\n",
        "for i, v in enumerate(['p1', 'p2', 'p3', 'p4']):\n",
        "    print(f\"Class {v}:\")\n",
        "    print(f\"Precision: {precision[i]}\")\n",
        "    print(f\"Recall: {recall[i]}\")\n",
        "    print(f\"F1 Score: {f1_score[i]}\")\n",
        "    print()\n",
        "\n",
        "\n"
      ]
    },
    {
      "cell_type": "markdown",
      "metadata": {
        "id": "YTT03c6Hafe6"
      },
      "source": [
        "\n",
        "1. **XGBoost Classifier**:\n",
        "    - XGBoost (Extreme Gradient Boosting) is a popular gradient boosting algorithm used for classification and regression tasks.\n",
        "    - In this code snippet:\n",
        "        - An XGBoost classifier is created using `xgb.XGBClassifier()`.\n",
        "        - The `objective` parameter is set to `'multi:softmax'`, indicating a multi-class classification problem.\n",
        "        - The `num_class` parameter is set to 4, representing the number of classes (p1, p2, p3, and p4).\n",
        "    - The classifier is trained on the training data using `xgb_classifier.fit(x_train, y_train)`.\n",
        "\n",
        "2. **Predictions and Evaluation**:\n",
        "    - Predictions are made on the testing data using `y_pred = xgb_classifier.predict(x_test)`.\n",
        "    - The accuracy of the model is calculated using `accuracy_score(y_test, y_pred)`.\n",
        "    - Precision, recall, and F1-score are computed for each class using `precision_recall_fscore_support`."
      ]
    },
    {
      "cell_type": "code",
      "execution_count": null,
      "metadata": {
        "id": "rIc79mN9afe6",
        "colab": {
          "base_uri": "https://localhost:8080/"
        },
        "outputId": "8a05162c-b85e-4615-8b78-af793220862e"
      },
      "outputs": [
        {
          "output_type": "stream",
          "name": "stdout",
          "text": [
            "\n",
            "Accuracy: 0.71\n",
            "\n",
            "Class p1:\n",
            "Precision: 0.7240356083086054\n",
            "Recall: 0.7218934911242604\n",
            "F1 Score: 0.7229629629629629\n",
            "\n",
            "Class p2:\n",
            "Precision: 0.8094035360404119\n",
            "Recall: 0.8257680872150645\n",
            "F1 Score: 0.8175039246467818\n",
            "\n",
            "Class p3:\n",
            "Precision: 0.3392\n",
            "Recall: 0.32\n",
            "F1 Score: 0.32932038834951455\n",
            "\n",
            "Class p4:\n",
            "Precision: 0.6487562189054726\n",
            "Recall: 0.6336248785228377\n",
            "F1 Score: 0.6411012782694199\n",
            "\n"
          ]
        }
      ],
      "source": [
        "# 3. Decision Tree\n",
        "from sklearn.tree import DecisionTreeClassifier\n",
        "\n",
        "\n",
        "y = df_encoded['Approved_Flag']\n",
        "x = df_encoded. drop ( ['Approved_Flag'], axis = 1 )\n",
        "\n",
        "x_train, x_test, y_train, y_test = train_test_split(x, y, test_size=0.2, random_state=42)\n",
        "\n",
        "\n",
        "dt_model = DecisionTreeClassifier(max_depth=20, min_samples_split=10)\n",
        "dt_model.fit(x_train, y_train)\n",
        "y_pred = dt_model.predict(x_test)\n",
        "\n",
        "accuracy = accuracy_score(y_test, y_pred)\n",
        "print ()\n",
        "print(f\"Accuracy: {accuracy:.2f}\")\n",
        "print ()\n",
        "\n",
        "precision, recall, f1_score, _ = precision_recall_fscore_support(y_test, y_pred)\n",
        "\n",
        "for i, v in enumerate(['p1', 'p2', 'p3', 'p4']):\n",
        "    print(f\"Class {v}:\")\n",
        "    print(f\"Precision: {precision[i]}\")\n",
        "    print(f\"Recall: {recall[i]}\")\n",
        "    print(f\"F1 Score: {f1_score[i]}\")\n",
        "    print()\n"
      ]
    },
    {
      "cell_type": "markdown",
      "source": [
        "- **Xgboost is giving me best results. So We will further finetune it  and apply standard scaler.**"
      ],
      "metadata": {
        "id": "OThEperfS9PD"
      }
    },
    {
      "cell_type": "code",
      "execution_count": null,
      "metadata": {
        "id": "PSaf3slBafe6",
        "colab": {
          "base_uri": "https://localhost:8080/"
        },
        "outputId": "c63a37b3-d919-4887-e48e-605a885dbc77"
      },
      "outputs": [
        {
          "output_type": "stream",
          "name": "stdout",
          "text": [
            "Accuracy: 0.78\n",
            "Class p1:\n",
            "Precision: 0.823906083244397\n",
            "Recall: 0.7613412228796844\n",
            "F1 Score: 0.7913890312660175\n",
            "\n",
            "Class p2:\n",
            "Precision: 0.8255418233924413\n",
            "Recall: 0.913577799801784\n",
            "F1 Score: 0.8673315769665035\n",
            "\n",
            "Class p3:\n",
            "Precision: 0.4756380510440835\n",
            "Recall: 0.30943396226415093\n",
            "F1 Score: 0.37494284407864653\n",
            "\n",
            "Class p4:\n",
            "Precision: 0.7342386032977691\n",
            "Recall: 0.7356656948493683\n",
            "F1 Score: 0.7349514563106796\n",
            "\n"
          ]
        }
      ],
      "source": [
        "\n",
        "from sklearn.preprocessing import StandardScaler\n",
        "\n",
        "columns_to_be_scaled = ['Age_Oldest_TL','Age_Newest_TL','time_since_recent_payment',\n",
        "'max_recent_level_of_deliq','recent_level_of_deliq',\n",
        "'time_since_recent_enq','NETMONTHLYINCOME','Time_With_Curr_Empr']\n",
        "\n",
        "for i in columns_to_be_scaled:\n",
        "    column_data = df_encoded[i].values.reshape(-1, 1)\n",
        "    scaler = StandardScaler()\n",
        "    scaled_column = scaler.fit_transform(column_data)\n",
        "    df_encoded[i] = scaled_column\n",
        "\n",
        "\n",
        "\n",
        "import xgboost as xgb\n",
        "from sklearn.preprocessing import LabelEncoder\n",
        "\n",
        "xgb_classifier = xgb.XGBClassifier(objective='multi:softmax',  num_class=4)\n",
        "\n",
        "\n",
        "\n",
        "y = df_encoded['Approved_Flag']\n",
        "x = df_encoded. drop ( ['Approved_Flag'], axis = 1 )\n",
        "\n",
        "\n",
        "label_encoder = LabelEncoder()\n",
        "y_encoded = label_encoder.fit_transform(y)\n",
        "\n",
        "x_train, x_test, y_train, y_test = train_test_split(x, y_encoded, test_size=0.2, random_state=42)\n",
        "\n",
        "xgb_classifier.fit(x_train, y_train)\n",
        "y_pred = xgb_classifier.predict(x_test)\n",
        "\n",
        "accuracy = accuracy_score(y_test, y_pred)\n",
        "print(f'Accuracy: {accuracy:.2f}')\n",
        "\n",
        "\n",
        "precision, recall, f1_score, _ = precision_recall_fscore_support(y_test, y_pred)\n",
        "\n",
        "for i, v in enumerate(['p1', 'p2', 'p3', 'p4']):\n",
        "    print(f\"Class {v}:\")\n",
        "    print(f\"Precision: {precision[i]}\")\n",
        "    print(f\"Recall: {recall[i]}\")\n",
        "    print(f\"F1 Score: {f1_score[i]}\")\n",
        "    print()\n"
      ]
    },
    {
      "cell_type": "markdown",
      "source": [
        "- **No improvement in metrices**\n",
        "- **So now we will do Hyperparameter tuning**"
      ],
      "metadata": {
        "id": "nZYldKILSwN8"
      }
    },
    {
      "cell_type": "code",
      "execution_count": null,
      "metadata": {
        "id": "VMXz-l6pafe6",
        "colab": {
          "base_uri": "https://localhost:8080/"
        },
        "outputId": "022aa56b-3d43-431c-8250-f8cdebbc8772"
      },
      "outputs": [
        {
          "output_type": "stream",
          "name": "stdout",
          "text": [
            "Best Hyperparameters: {'learning_rate': 0.2, 'max_depth': 3, 'n_estimators': 200}\n",
            "Test Accuracy: 0.7811719957209081\n"
          ]
        }
      ],
      "source": [
        "\n",
        "# Hyperparameter tuning in xgboost\n",
        "from sklearn.model_selection import GridSearchCV\n",
        "x_train, x_test, y_train, y_test = train_test_split(x, y_encoded, test_size=0.2, random_state=42)\n",
        "\n",
        "# Define the XGBClassifier with the initial set of hyperparameters\n",
        "xgb_model = xgb.XGBClassifier(objective='multi:softmax', num_class=4)\n",
        "\n",
        "# Define the parameter grid for hyperparameter tuning\n",
        "\n",
        "param_grid = {\n",
        "    'n_estimators': [50, 100, 200],\n",
        "    'max_depth': [3, 5, 7],\n",
        "    'learning_rate': [0.01, 0.1, 0.2],\n",
        "}\n",
        "\n",
        "grid_search = GridSearchCV(estimator=xgb_model, param_grid=param_grid, cv=3, scoring='accuracy', n_jobs=-1)\n",
        "grid_search.fit(x_train, y_train)\n",
        "\n",
        "# Print the best hyperparameters\n",
        "print(\"Best Hyperparameters:\", grid_search.best_params_)\n",
        "\n",
        "# Evaluate the model with the best hyperparameters on the test set\n",
        "best_model = grid_search.best_estimator_\n",
        "accuracy = best_model.score(x_test, y_test)\n",
        "print(\"Test Accuracy:\", accuracy)\n"
      ]
    },
    {
      "cell_type": "markdown",
      "source": [
        "- **Best Hyperparameters: ('learning_rate': 0.2, 'max_depth': 3, 'n_estimators': 200)**\n",
        "\n",
        "- **Test Accuracy: 0.781**\n",
        "\n",
        "\n",
        "- **Based on risk appetite of the bank, you will suggest P1,P2,P3,P4 to the business end user**\n"
      ],
      "metadata": {
        "id": "qN_pGwVGSNNT"
      }
    },
    {
      "cell_type": "markdown",
      "source": [
        "**Hyperparameter Sensitivity Analysis GridSearchCV**"
      ],
      "metadata": {
        "id": "YiK10tnu5i7m"
      }
    },
    {
      "cell_type": "code",
      "source": [
        "import pandas as pd\n",
        "import seaborn as sns\n",
        "import matplotlib.pyplot as plt\n",
        "\n",
        "# Extract the grid search results into a DataFrame\n",
        "results = pd.DataFrame(grid_search.cv_results_)\n",
        "\n",
        "# Plot heatmaps or line plots to see how the model accuracy changes with different hyperparameters\n",
        "# Example: Plotting the relationship between learning rate and accuracy\n",
        "\n",
        "pivot_table = results.pivot_table(values='mean_test_score', index='param_learning_rate', columns='param_max_depth')\n",
        "sns.heatmap(pivot_table, annot=True, cmap='viridis')\n",
        "plt.title('Sensitivity of Model Accuracy to Learning Rate and Max Depth')\n",
        "plt.xlabel('Max Depth')\n",
        "plt.ylabel('Learning Rate')\n",
        "plt.show()\n"
      ],
      "metadata": {
        "colab": {
          "base_uri": "https://localhost:8080/",
          "height": 472
        },
        "id": "MzBDrWOJwqrE",
        "outputId": "1ffc976e-adb1-4ec0-ac2f-86a204685910"
      },
      "execution_count": null,
      "outputs": [
        {
          "output_type": "display_data",
          "data": {
            "text/plain": [
              "<Figure size 640x480 with 2 Axes>"
            ],
            "image/png": "[encoded data removed]"
          },
          "metadata": {}
        }
      ]
    },
    {
      "cell_type": "code",
      "source": [
        "from sklearn.model_selection import RandomizedSearchCV\n",
        "\n",
        "# Define the parameter distribution\n",
        "param_dist = {\n",
        "    'n_estimators': [50, 100, 200],\n",
        "    'max_depth': [3, 5, 7, 10],\n",
        "    'learning_rate': [0.001, 0.01, 0.1, 0.2],\n",
        "    'colsample_bytree': [0.3, 0.5, 0.7, 1.0]\n",
        "}\n",
        "\n",
        "# Initialize RandomizedSearchCV\n",
        "random_search = RandomizedSearchCV(estimator=xgb_model, param_distributions=param_dist, n_iter=20, cv=3, scoring='accuracy', n_jobs=-1)\n",
        "random_search.fit(x_train, y_train)\n",
        "\n",
        "# Best parameters and test accuracy\n",
        "print(\"Best Hyperparameters:\", random_search.best_params_)\n",
        "best_model = random_search.best_estimator_\n",
        "accuracy = best_model.score(x_test, y_test)\n",
        "print(f\"Test Accuracy: {accuracy:.2f}\")\n"
      ],
      "metadata": {
        "colab": {
          "base_uri": "https://localhost:8080/"
        },
        "id": "nHI9OYdCl9Ag",
        "outputId": "e2ed4a85-a751-4eb7-c038-2b527a828559"
      },
      "execution_count": null,
      "outputs": [
        {
          "output_type": "stream",
          "name": "stdout",
          "text": [
            "Best Hyperparameters: {'n_estimators': 200, 'max_depth': 3, 'learning_rate': 0.2, 'colsample_bytree': 0.5}\n",
            "Test Accuracy: 0.78\n"
          ]
        }
      ]
    },
    {
      "cell_type": "code",
      "source": [
        "print(f\"Test Accuracy: {accuracy:.4f}\")"
      ],
      "metadata": {
        "colab": {
          "base_uri": "https://localhost:8080/"
        },
        "id": "qufRmJxJvW1B",
        "outputId": "85e425c5-e354-4251-e55f-f6b1ea670d9d"
      },
      "execution_count": null,
      "outputs": [
        {
          "output_type": "stream",
          "name": "stdout",
          "text": [
            "Test Accuracy: 0.7812\n"
          ]
        }
      ]
    },
    {
      "cell_type": "markdown",
      "source": [
        "**Best Hyperparameters:** **{'n_estimators': 200, 'max_depth': 3, 'learning_rate': 0.2, 'colsample_bytree': 0.5}**\n",
        "\n",
        "**Test Accuracy:** **0.78**"
      ],
      "metadata": {
        "id": "ujodjX_-qhk1"
      }
    },
    {
      "cell_type": "code",
      "source": [
        "import pandas as pd\n",
        "import seaborn as sns\n",
        "import matplotlib.pyplot as plt\n",
        "\n",
        "# Extract the random_search results into a DataFrame\n",
        "results = pd.DataFrame(random_search.cv_results_)\n",
        "\n",
        "# Plot heatmaps or line plots to see how the model accuracy changes with different hyperparameters\n",
        "# Example: Plotting the relationship between learning rate and accuracy\n",
        "\n",
        "pivot_table = results.pivot_table(values='mean_test_score', index='param_learning_rate', columns='param_max_depth')\n",
        "sns.heatmap(pivot_table, annot=True, cmap='viridis')\n",
        "plt.title('Sensitivity of Model Accuracy to Learning Rate and Max Depth')\n",
        "plt.xlabel('Max Depth')\n",
        "plt.ylabel('Learning Rate')\n",
        "plt.show()\n"
      ],
      "metadata": {
        "colab": {
          "base_uri": "https://localhost:8080/",
          "height": 472
        },
        "id": "qxzNy8_qw_89",
        "outputId": "a6cccc3e-20db-49a0-82d7-db4c9936fb46"
      },
      "execution_count": null,
      "outputs": [
        {
          "output_type": "display_data",
          "data": {
            "text/plain": [
              "<Figure size 640x480 with 2 Axes>"
            ],
            "image/png": "[encoded data removed]"
          },
          "metadata": {}
        }
      ]
    },
    {
      "cell_type": "markdown",
      "source": [
        "**3. Bayesian Optimization (Using Hyperopt)** :\n",
        "Bayesian optimization uses probabilistic models to find the best set of hyperparameters more efficiently by focusing on the most promising regions of the hyperparameter space."
      ],
      "metadata": {
        "id": "SR6ufQPwmNRz"
      }
    },
    {
      "cell_type": "code",
      "source": [
        "from hyperopt import fmin, tpe, hp, Trials\n",
        "import xgboost as xgb\n",
        "\n",
        "# Define the objective function for hyperparameter optimization\n",
        "def objective(space):\n",
        "    xgb_clf = xgb.XGBClassifier(\n",
        "        n_estimators=int(space['n_estimators']),\n",
        "        max_depth=int(space['max_depth']),\n",
        "        learning_rate=space['learning_rate']\n",
        "    )\n",
        "    xgb_clf.fit(x_train, y_train)\n",
        "    accuracy = xgb_clf.score(x_test, y_test)\n",
        "    return -accuracy  # Minimize the negative accuracy\n",
        "\n",
        "# Define the search space for hyperparameters\n",
        "space = {\n",
        "    'n_estimators': hp.quniform('n_estimators', 50, 200, 50),\n",
        "    'max_depth': hp.quniform('max_depth', 3, 7, 1),\n",
        "    'learning_rate': hp.uniform('learning_rate', 0.01, 0.2)\n",
        "}\n",
        "\n",
        "# Run the optimization\n",
        "trials = Trials()\n",
        "best_hyperparams = fmin(fn=objective, space=space, algo=tpe.suggest, max_evals=50, trials=trials)\n",
        "\n",
        "print(\"Best Hyperparameters:\", best_hyperparams)\n"
      ],
      "metadata": {
        "colab": {
          "base_uri": "https://localhost:8080/"
        },
        "id": "DnxzsQUPmfcX",
        "outputId": "674a01c7-e4e5-4ae5-bbd8-eef65f0f4dfb"
      },
      "execution_count": null,
      "outputs": [
        {
          "output_type": "stream",
          "name": "stdout",
          "text": [
            "100%|██████████| 50/50 [03:02<00:00,  3.66s/trial, best loss: -0.7806965410673957]\n",
            "Best Hyperparameters: {'learning_rate': np.float64(0.1997177276355187), 'max_depth': np.float64(3.0), 'n_estimators': np.float64(200.0)}\n"
          ]
        }
      ]
    },
    {
      "cell_type": "code",
      "source": [
        "# After optimization, train and evaluate the model with the best hyperparameters\n",
        "best_xgb = xgb.XGBClassifier(\n",
        "    n_estimators=int(best_hyperparams['n_estimators']),\n",
        "    max_depth=int(best_hyperparams['max_depth']),\n",
        "    learning_rate=best_hyperparams['learning_rate']\n",
        ")\n",
        "\n",
        "best_xgb.fit(x_train, y_train)\n",
        "accuracy = best_xgb.score(x_test, y_test)\n",
        "\n",
        "print(f\"Accuracy after Bayesian optimization: {accuracy:.2f}\")"
      ],
      "metadata": {
        "colab": {
          "base_uri": "https://localhost:8080/"
        },
        "id": "cSXetojyrWQH",
        "outputId": "59443d87-3692-4035-b54b-5aa9b060a62c"
      },
      "execution_count": null,
      "outputs": [
        {
          "output_type": "stream",
          "name": "stdout",
          "text": [
            "Accuracy after Bayesian optimization: 0.78\n"
          ]
        }
      ]
    },
    {
      "cell_type": "code",
      "source": [
        "print(f\"Accuracy after Bayesian optimization: {accuracy:.4f}\")"
      ],
      "metadata": {
        "colab": {
          "base_uri": "https://localhost:8080/"
        },
        "id": "XvNJdOZOvFNR",
        "outputId": "032a478d-d77d-4480-c695-58816ec9b005"
      },
      "execution_count": null,
      "outputs": [
        {
          "output_type": "stream",
          "name": "stdout",
          "text": [
            "Accuracy after Bayesian optimization: 0.7807\n"
          ]
        }
      ]
    },
    {
      "cell_type": "markdown",
      "source": [
        "**Best Hyperparameters: {'learning_rate': 0.1825809643618197, 'max_depth': 3.0, 'n_estimators': 200.0}**\n",
        "\n",
        "**Accuracy after Bayesian optimization: 0.7818**"
      ],
      "metadata": {
        "id": "VZYIoPGmuEIU"
      }
    },
    {
      "cell_type": "markdown",
      "source": [
        "**Using Scikit-optimize library (skopt) to perform Bayesian optimization for hyperparameter tuning on an XGBoost classifier**"
      ],
      "metadata": {
        "id": "NJLdlmJZyXv1"
      }
    },
    {
      "cell_type": "code",
      "source": [
        "pip install scikit-optimize\n"
      ],
      "metadata": {
        "colab": {
          "base_uri": "https://localhost:8080/"
        },
        "id": "Ti_hnr8kykeG",
        "outputId": "d7f066c1-46fa-4898-f1ca-22af67caa2c5"
      },
      "execution_count": null,
      "outputs": [
        {
          "output_type": "stream",
          "name": "stdout",
          "text": [
            "Collecting scikit-optimize\n",
            "  Downloading scikit_optimize-0.10.2-py2.py3-none-any.whl.metadata (9.7 kB)\n",
            "Requirement already satisfied: joblib>=0.11 in /usr/local/lib/python3.11/dist-packages (from scikit-optimize) (1.4.2)\n",
            "Collecting pyaml>=16.9 (from scikit-optimize)\n",
            "  Downloading pyaml-25.1.0-py3-none-any.whl.metadata (12 kB)\n",
            "Requirement already satisfied: numpy>=1.20.3 in /usr/local/lib/python3.11/dist-packages (from scikit-optimize) (2.0.2)\n",
            "Requirement already satisfied: scipy>=1.1.0 in /usr/local/lib/python3.11/dist-packages (from scikit-optimize) (1.14.1)\n",
            "Requirement already satisfied: scikit-learn>=1.0.0 in /usr/local/lib/python3.11/dist-packages (from scikit-optimize) (1.6.1)\n",
            "Requirement already satisfied: packaging>=21.3 in /usr/local/lib/python3.11/dist-packages (from scikit-optimize) (24.2)\n",
            "Requirement already satisfied: PyYAML in /usr/local/lib/python3.11/dist-packages (from pyaml>=16.9->scikit-optimize) (6.0.2)\n",
            "Requirement already satisfied: threadpoolctl>=3.1.0 in /usr/local/lib/python3.11/dist-packages (from scikit-learn>=1.0.0->scikit-optimize) (3.6.0)\n",
            "Downloading scikit_optimize-0.10.2-py2.py3-none-any.whl (107 kB)\n",
            "\u001b[2K   \u001b[90m━━━━━━━━━━━━━━━━━━━━━━━━━━━━━━━━━━━━━━━━\u001b[0m \u001b[32m107.8/107.8 kB\u001b[0m \u001b[31m4.1 MB/s\u001b[0m eta \u001b[36m0:00:00\u001b[0m\n",
            "\u001b[?25hDownloading pyaml-25.1.0-py3-none-any.whl (26 kB)\n",
            "Installing collected packages: pyaml, scikit-optimize\n",
            "Successfully installed pyaml-25.1.0 scikit-optimize-0.10.2\n"
          ]
        }
      ]
    },
    {
      "cell_type": "code",
      "source": [
        "from skopt import BayesSearchCV\n",
        "from skopt.space import Real, Integer\n",
        "import xgboost as xgb\n",
        "from sklearn.model_selection import train_test_split\n",
        "from sklearn.metrics import accuracy_score\n",
        "\n",
        "# Define the hyperparameter space for Bayesian Optimization\n",
        "search_space = {\n",
        "    'learning_rate': Real(0.01, 0.2, prior='log-uniform'),\n",
        "    'max_depth': Integer(3, 9),\n",
        "    'n_estimators': Integer(50, 300),\n",
        "    'subsample': Real(0.6, 1.0),\n",
        "    'colsample_bytree': Real(0.6, 1.0)\n",
        "}\n",
        "\n",
        "# Initialize the XGBoost classifier\n",
        "xgb_clf = xgb.XGBClassifier(objective='multi:softmax', eval_metric='mlogloss', use_label_encoder=False)\n",
        "\n",
        "# Use Bayesian optimization (BayesSearchCV)\n",
        "bayes_search = BayesSearchCV(estimator=xgb_clf, search_spaces=search_space, n_iter=32, cv=3, n_jobs=-1, scoring='accuracy', verbose=0, random_state=42)\n",
        "\n",
        "# Fit Bayesian optimization\n",
        "bayes_search.fit(x_train, y_train)\n",
        "\n",
        "# Print the best hyperparameters and accuracy score\n",
        "print(\"Best Hyperparameters: \", bayes_search.best_params_)\n",
        "print(f\"Best Accuracy: {bayes_search.best_score_:.4f}\")\n"
      ],
      "metadata": {
        "colab": {
          "base_uri": "https://localhost:8080/"
        },
        "id": "AccTJqVeynBU",
        "outputId": "95a0a562-b300-4562-a98b-fc87927b0bde"
      },
      "execution_count": null,
      "outputs": [
        {
          "output_type": "stream",
          "name": "stderr",
          "text": [
            "/usr/local/lib/python3.11/dist-packages/xgboost/training.py:183: UserWarning: [11:57:47] WARNING: /workspace/src/learner.cc:738: \n",
            "Parameters: { \"use_label_encoder\" } are not used.\n",
            "\n",
            "  bst.update(dtrain, iteration=i, fobj=obj)\n"
          ]
        },
        {
          "output_type": "stream",
          "name": "stdout",
          "text": [
            "Best Hyperparameters:  OrderedDict([('colsample_bytree', 1.0), ('learning_rate', 0.09329147715154032), ('max_depth', 4), ('n_estimators', 300), ('subsample', 1.0)])\n",
            "Best Accuracy: 0.7805\n"
          ]
        }
      ]
    },
    {
      "cell_type": "markdown",
      "source": [
        "**Best Hyperparameters:  OrderedDict([('colsample_bytree', 0.9111541806477735), ('learning_rate', 0.07104506876549765), ('max_depth', 5), ('n_estimators', 157), ('subsample', 0.8084870995715169)])**\n",
        "\n",
        "**Best Accuracy: 0.7805**"
      ],
      "metadata": {
        "id": "G-jx_aHx1dty"
      }
    },
    {
      "cell_type": "markdown",
      "source": [
        "**Plot the sensitivity of accuracy to key hyperparameters (e.g., learning rate and max depth)**"
      ],
      "metadata": {
        "id": "XgfjEilb1tUh"
      }
    },
    {
      "cell_type": "code",
      "source": [
        "import pandas as pd\n",
        "import seaborn as sns\n",
        "import matplotlib.pyplot as plt\n",
        "\n",
        "# Get the optimization results\n",
        "opt_results = pd.DataFrame(bayes_search.cv_results_)\n",
        "\n",
        "# Plot the sensitivity of accuracy to key hyperparameters (e.g., learning rate and max depth)\n",
        "sns.scatterplot(x='param_learning_rate', y='mean_test_score', hue='param_max_depth', data=opt_results, palette=\"viridis\", legend='full')\n",
        "plt.title('Sensitivity of Model Accuracy to Learning Rate and Max Depth')\n",
        "plt.xlabel('Learning Rate')\n",
        "plt.ylabel('Accuracy')\n",
        "plt.show()\n"
      ],
      "metadata": {
        "colab": {
          "base_uri": "https://localhost:8080/",
          "height": 472
        },
        "id": "PMbPlEBcyqT6",
        "outputId": "c1e123eb-b365-4919-a54b-862c581223c8"
      },
      "execution_count": null,
      "outputs": [
        {
          "output_type": "display_data",
          "data": {
            "text/plain": [
              "<Figure size 640x480 with 1 Axes>"
            ],
            "image/png": "[encoded data removed]"
          },
          "metadata": {}
        }
      ]
    },
    {
      "cell_type": "markdown",
      "source": [
        "**Full Sensitivity Analysis Across Multiple Hyperparameters**"
      ],
      "metadata": {
        "id": "QrHfbqS4154C"
      }
    },
    {
      "cell_type": "code",
      "source": [
        "# Pivot the results for plotting a heatmap\n",
        "pivot_table = opt_results.pivot_table(values='mean_test_score', index='param_learning_rate', columns='param_max_depth')\n",
        "sns.heatmap(pivot_table, annot=True, cmap='coolwarm')\n",
        "plt.title('Sensitivity of Accuracy to Learning Rate and Max Depth')\n",
        "plt.xlabel('Max Depth')\n",
        "plt.ylabel('Learning Rate')\n",
        "plt.show()\n"
      ],
      "metadata": {
        "colab": {
          "base_uri": "https://localhost:8080/",
          "height": 472
        },
        "id": "2p8Rs7v8yzKw",
        "outputId": "9c51e7cd-ac91-42d3-89e8-dcb018c001a8"
      },
      "execution_count": null,
      "outputs": [
        {
          "output_type": "display_data",
          "data": {
            "text/plain": [
              "<Figure size 640x480 with 2 Axes>"
            ],
            "image/png": "[encoded data removed]"
          },
          "metadata": {}
        }
      ]
    },
    {
      "cell_type": "markdown",
      "source": [
        "**Bayesian Optimization Iterations and Convergence Plot**"
      ],
      "metadata": {
        "id": "oCEq-b1c1-Mp"
      }
    },
    {
      "cell_type": "code",
      "source": [
        "# Analyze 'n_estimators' vs 'mean_test_score'\n",
        "sns.lineplot(x='param_n_estimators', y='mean_test_score', data=opt_results)\n",
        "plt.title('Sensitivity of Accuracy to Number of Estimators')\n",
        "plt.xlabel('Number of Estimators')\n",
        "plt.ylabel('Accuracy')\n",
        "plt.show()\n",
        "\n",
        "# Analyze 'subsample' vs 'mean_test_score'\n",
        "sns.lineplot(x='param_subsample', y='mean_test_score', data=opt_results)\n",
        "plt.title('Sensitivity of Accuracy to Subsample')\n",
        "plt.xlabel('Subsample')\n",
        "plt.ylabel('Accuracy')\n",
        "plt.show()\n"
      ],
      "metadata": {
        "colab": {
          "base_uri": "https://localhost:8080/",
          "height": 927
        },
        "id": "LtHSs-2Ay6UZ",
        "outputId": "61d3c709-715f-40ac-df3f-d1b950216e70"
      },
      "execution_count": null,
      "outputs": [
        {
          "output_type": "display_data",
          "data": {
            "text/plain": [
              "<Figure size 640x480 with 1 Axes>"
            ],
            "image/png": "[encoded data removed]"
          },
          "metadata": {}
        },
        {
          "output_type": "display_data",
          "data": {
            "text/plain": [
              "<Figure size 640x480 with 1 Axes>"
            ],
            "image/png": "[encoded data removed]"
          },
          "metadata": {}
        }
      ]
    },
    {
      "cell_type": "markdown",
      "source": [
        "**Experimenting with Different Hyperparameter Combinations**"
      ],
      "metadata": {
        "id": "cgiKw5Hq41wV"
      }
    },
    {
      "cell_type": "code",
      "source": [
        "# Hyperparameter tuning for xgboost (Used in the session)\n",
        "\n",
        "# Define the hyperparameter grid\n",
        "param_grid = {\n",
        "  'colsample_bytree': [0.1, 0.3, 0.5, 0.7, 0.9],\n",
        "  'learning_rate'   : [0.001, 0.01, 0.1, 1],\n",
        "  'max_depth'       : [3, 5, 8, 10],\n",
        "  'alpha'           : [1, 10, 100],\n",
        "  'n_estimators'    : [10,50,100]\n",
        "}\n",
        "\n",
        "index = 0\n",
        "\n",
        "answers_grid = {\n",
        "    'combination'       :[],\n",
        "    'train_Accuracy'    :[],\n",
        "    'test_Accuracy'     :[],\n",
        "    'colsample_bytree'  :[],\n",
        "    'learning_rate'     :[],\n",
        "    'max_depth'         :[],\n",
        "    'alpha'             :[],\n",
        "    'n_estimators'      :[]\n",
        "\n",
        "    }\n",
        "\n",
        "\n",
        "# Loop through each combination of hyperparameters\n",
        "for colsample_bytree in param_grid['colsample_bytree']:\n",
        "  for learning_rate in param_grid['learning_rate']:\n",
        "    for max_depth in param_grid['max_depth']:\n",
        "      for alpha in param_grid['alpha']:\n",
        "          for n_estimators in param_grid['n_estimators']:\n",
        "\n",
        "              index = index + 1\n",
        "\n",
        "              # Define and train the XGBoost model\n",
        "              model = xgb.XGBClassifier(objective='multi:softmax',\n",
        "                                       num_class=4,\n",
        "                                       colsample_bytree = colsample_bytree,\n",
        "                                       learning_rate = learning_rate,\n",
        "                                       max_depth = max_depth,\n",
        "                                       alpha = alpha,\n",
        "                                       n_estimators = n_estimators)\n",
        "\n",
        "\n",
        "\n",
        "              y = df_encoded['Approved_Flag']\n",
        "              x = df_encoded. drop ( ['Approved_Flag'], axis = 1 )\n",
        "\n",
        "              label_encoder = LabelEncoder()\n",
        "              y_encoded = label_encoder.fit_transform(y)\n",
        "\n",
        "\n",
        "              x_train, x_test, y_train, y_test = train_test_split(x, y_encoded, test_size=0.2, random_state=42)\n",
        "\n",
        "\n",
        "              model.fit(x_train, y_train)\n"
      ],
      "metadata": {
        "id": "c90hy17GSIs7"
      },
      "execution_count": null,
      "outputs": []
    },
    {
      "cell_type": "code",
      "source": [
        "#Predict on training and testing sets\n",
        "y_pred_train = model.predict(x_train)\n",
        "y_pred_test = model.predict(x_test)\n",
        "\n",
        "\n",
        "# Calculate train and test results\n",
        "\n",
        "train_accuracy =  accuracy_score (y_train, y_pred_train)\n",
        "test_accuracy  =  accuracy_score (y_test , y_pred_test)\n",
        "\n",
        "\n",
        "\n",
        "# Include into the lists\n",
        "answers_grid ['combination'].append(index)\n",
        "answers_grid ['train_Accuracy'].append(train_accuracy)\n",
        "answers_grid ['test_Accuracy'].append(test_accuracy)\n",
        "answers_grid ['colsample_bytree'].append(colsample_bytree)\n",
        "answers_grid ['learning_rate'].append(learning_rate)\n",
        "answers_grid ['max_depth'].append(max_depth)\n",
        "answers_grid ['alpha'].append(alpha)\n",
        "answers_grid ['n_estimators'].append(n_estimators)\n",
        "\n",
        "\n",
        "# Print results for this combination\n",
        "print(f\"Combination {index}\")\n",
        "print(f\"colsample_bytree: {colsample_bytree}, learning_rate: {learning_rate}, max_depth: {max_depth}, alpha: {alpha}, n_estimators: {n_estimators}\")\n",
        "print(f\"Train Accuracy: {train_accuracy:.2f}\")\n",
        "print(f\"Test Accuracy : {test_accuracy :.2f}\")\n",
        "print(\"-\" * 30)\n"
      ],
      "metadata": {
        "colab": {
          "base_uri": "https://localhost:8080/"
        },
        "id": "Gli-nscMSIlU",
        "outputId": "5d62b9cd-b862-4f35-b393-5428372ea931"
      },
      "execution_count": null,
      "outputs": [
        {
          "output_type": "stream",
          "name": "stdout",
          "text": [
            "Combination 720\n",
            "colsample_bytree: 0.9, learning_rate: 1, max_depth: 10, alpha: 100, n_estimators: 100\n",
            "Train Accuracy: 0.79\n",
            "Test Accuracy : 0.77\n",
            "------------------------------\n"
          ]
        }
      ]
    },
    {
      "cell_type": "markdown",
      "source": [
        "**-Combination 720**\n",
        "\n",
        "**-colsample_bytree: 0.9, learning_rate: 1, max_depth: 10, alpha: 100 ,n_estimators: 100**\n",
        "\n",
        "**-Train Accuracy: 0.79**\n",
        "\n",
        "**-Test Accuracy : 0.77**"
      ],
      "metadata": {
        "id": "Vc9n8waqdq1-"
      }
    },
    {
      "cell_type": "code",
      "source": [
        "from xgboost import plot_importance\n",
        "import matplotlib.pyplot as plt\n",
        "from matplotlib.pyplot import figure\n",
        "\n",
        "\n",
        "\n",
        "# Plot feature importance\n",
        "plot_importance(best_xgb)\n",
        "figure(figsize=(20, 20), dpi=80)\n"
      ],
      "metadata": {
        "id": "WLGE-zkvcZ-2",
        "colab": {
          "base_uri": "https://localhost:8080/",
          "height": 509
        },
        "outputId": "b8b68197-f3dc-4bba-ba86-8e42861d23df"
      },
      "execution_count": null,
      "outputs": [
        {
          "output_type": "execute_result",
          "data": {
            "text/plain": [
              "<Figure size 1600x1600 with 0 Axes>"
            ]
          },
          "metadata": {},
          "execution_count": 55
        },
        {
          "output_type": "display_data",
          "data": {
            "text/plain": [
              "<Figure size 640x480 with 1 Axes>"
            ],
            "image/png": "[encoded data removed]"
          },
          "metadata": {}
        },
        {
          "output_type": "display_data",
          "data": {
            "text/plain": [
              "<Figure size 1600x1600 with 0 Axes>"
            ]
          },
          "metadata": {}
        }
      ]
    },
    {
      "cell_type": "code",
      "source": [
        "from sklearn.model_selection import cross_val_score\n",
        "\n",
        "scores = cross_val_score(best_xgb, x, y_encoded, cv=5, scoring='accuracy')\n",
        "print(f\"Cross-validation scores: {scores}\")\n",
        "print(f\"Mean accuracy: {scores.mean():.2f}\")\n"
      ],
      "metadata": {
        "colab": {
          "base_uri": "https://localhost:8080/"
        },
        "id": "CJNq4axcwMkq",
        "outputId": "da44dec6-9079-4fc0-c7ec-a6f5f70affaa"
      },
      "execution_count": null,
      "outputs": [
        {
          "output_type": "stream",
          "name": "stdout",
          "text": [
            "Cross-validation scores: [0.78212291 0.781172   0.78236063 0.78057768 0.77722301]\n",
            "Mean accuracy: 0.78\n"
          ]
        }
      ]
    },
    {
      "cell_type": "code",
      "source": [
        "from sklearn.metrics import classification_report, confusion_matrix\n",
        "\n",
        "# Classification report\n",
        "print(classification_report(y_test, y_pred))\n",
        "\n",
        "# Confusion matrix\n",
        "conf_matrix = confusion_matrix(y_test, y_pred)\n",
        "print(\"Confusion Matrix:\\n\", conf_matrix)\n"
      ],
      "metadata": {
        "colab": {
          "base_uri": "https://localhost:8080/"
        },
        "id": "xOxksjjKwUIM",
        "outputId": "9f8b9fe2-2f0e-4308-c254-daea958c6294"
      },
      "execution_count": null,
      "outputs": [
        {
          "output_type": "stream",
          "name": "stdout",
          "text": [
            "              precision    recall  f1-score   support\n",
            "\n",
            "           0       0.82      0.76      0.79      1014\n",
            "           1       0.83      0.91      0.87      5045\n",
            "           2       0.48      0.31      0.37      1325\n",
            "           3       0.73      0.74      0.73      1029\n",
            "\n",
            "    accuracy                           0.78      8413\n",
            "   macro avg       0.71      0.68      0.69      8413\n",
            "weighted avg       0.76      0.78      0.76      8413\n",
            "\n",
            "Confusion Matrix:\n",
            " [[ 772  242    0    0]\n",
            " [ 131 4609  250   55]\n",
            " [  34  662  410  219]\n",
            " [   0   70  202  757]]\n"
          ]
        }
      ]
    },
    {
      "cell_type": "code",
      "source": [
        "from imblearn.over_sampling import SMOTE\n",
        "\n",
        "smote = SMOTE()\n",
        "x_train_res, y_train_res = smote.fit_resample(x_train, y_train)\n"
      ],
      "metadata": {
        "id": "gwrNjrm72gBg"
      },
      "execution_count": null,
      "outputs": []
    },
    {
      "cell_type": "code",
      "source": [
        "from sklearn.tree import DecisionTreeClassifier\n",
        "from sklearn.model_selection import train_test_split\n",
        "from sklearn.metrics import accuracy_score, precision_recall_fscore_support\n",
        "\n",
        "x_train, x_test, y_train, y_test = train_test_split(x_train_res, y_train_res, test_size=0.2, random_state=42)\n",
        "\n",
        "\n",
        "dt_model = DecisionTreeClassifier(max_depth=20, min_samples_split=10)\n",
        "dt_model.fit(x_train, y_train)\n",
        "y_pred = dt_model.predict(x_test)\n",
        "\n",
        "accuracy = accuracy_score(y_test, y_pred)\n",
        "print ()\n",
        "print(f\"Accuracy: {accuracy:.2f}\")\n",
        "print ()\n",
        "\n",
        "precision, recall, f1_score, _ = precision_recall_fscore_support(y_test, y_pred)\n",
        "\n",
        "for i, v in enumerate(['p1', 'p2', 'p3', 'p4']):\n",
        "    print(f\"Class {v}:\")\n",
        "    print(f\"Precision: {precision[i]}\")\n",
        "    print(f\"Recall: {recall[i]}\")\n",
        "    print(f\"F1 Score: {f1_score[i]}\")\n",
        "    print()"
      ],
      "metadata": {
        "colab": {
          "base_uri": "https://localhost:8080/"
        },
        "id": "YH6hmb5Z2rVA",
        "outputId": "13bc228f-44bc-4004-e4f5-71278c5ec45a"
      },
      "execution_count": null,
      "outputs": [
        {
          "output_type": "stream",
          "name": "stdout",
          "text": [
            "\n",
            "Accuracy: 0.79\n",
            "\n",
            "Class p1:\n",
            "Precision: 0.9072722993645563\n",
            "Recall: 0.927797833935018\n",
            "F1 Score: 0.9174202760590195\n",
            "\n",
            "Class p2:\n",
            "Precision: 0.7624648427512145\n",
            "Recall: 0.7282051282051282\n",
            "F1 Score: 0.7449412940294778\n",
            "\n",
            "Class p3:\n",
            "Precision: 0.6760828625235404\n",
            "Recall: 0.7025440313111546\n",
            "F1 Score: 0.6890595009596929\n",
            "\n",
            "Class p4:\n",
            "Precision: 0.8335885655946912\n",
            "Recall: 0.8189568706118355\n",
            "F1 Score: 0.8262079433341766\n",
            "\n"
          ]
        }
      ]
    }
  ],
  "metadata": {
    "kernelspec": {
      "display_name": "Python 3",
      "name": "python3"
    },
    "language_info": {
      "codemirror_mode": {
        "name": "ipython",
        "version": 3
      },
      "file_extension": ".py",
      "mimetype": "text/x-python",
      "name": "python",
      "nbconvert_exporter": "python",
      "pygments_lexer": "ipython3",
      "version": "3.10.13"
    },
    "colab": {
      "provenance": [],
      "gpuType": "T4"
    },
    "accelerator": "GPU"
  },
  "nbformat": 4,
  "nbformat_minor": 0
}